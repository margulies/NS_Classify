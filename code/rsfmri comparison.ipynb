{
 "metadata": {
  "name": "",
  "signature": "sha256:e9c7157982562c19e637f68de139320fd59be8dba15eb60a7374024c323293eb"
 },
 "nbformat": 3,
 "nbformat_minor": 0,
 "worksheets": [
  {
   "cells": [
    {
     "cell_type": "code",
     "collapsed": false,
     "input": [
      "from IPython.html import widgets\n",
      "%matplotlib inline\n",
      "\n",
      "import numpy as np\n",
      "from base.classifiers import OnevsallContinuous\n",
      "import pandas as pd\n",
      "from scipy import stats\n",
      "import seaborn as sns\n",
      "import mpld3\n",
      "import matplotlib.pyplot as plt\n",
      "import matplotlib.cm as cm\n",
      "mpld3.disable_notebook()\n",
      "import scipy\n",
      "import glob\n",
      "from base.statistics import dcor\n",
      "\n",
      "from neurosynth.base.dataset import Dataset\n",
      "dataset = Dataset.load(\"../data/datasets/abs_80topics_filt_jul.pkl\")"
     ],
     "language": "python",
     "metadata": {},
     "outputs": [],
     "prompt_number": 75
    },
    {
     "cell_type": "markdown",
     "metadata": {},
     "source": [
      "Load up data"
     ]
    },
    {
     "cell_type": "code",
     "collapsed": false,
     "input": [
      "clf = OnevsallContinuous.load(\"../results/aal_v4_Continous_Ridge_abs_topics_filt/classifier.pkl\")"
     ],
     "language": "python",
     "metadata": {},
     "outputs": [],
     "prompt_number": 5
    },
    {
     "cell_type": "code",
     "collapsed": false,
     "input": [
      "pairwise = OnevsallContinuous.load(\"../results/aal_Pairwise_Ridge_abs_topics_filt/classifier.pkl\")"
     ],
     "language": "python",
     "metadata": {},
     "outputs": [],
     "prompt_number": 8
    },
    {
     "cell_type": "code",
     "collapsed": false,
     "input": [
      "pairwise_rz = OnevsallContinuous.load(\"../results/aal_Pairwise_Ridge_rz_abs_topics_filt/classifier.pkl\")"
     ],
     "language": "python",
     "metadata": {},
     "outputs": [],
     "prompt_number": 9
    },
    {
     "cell_type": "code",
     "collapsed": false,
     "input": [
      "aal_rs_fmri = pd.read_csv(\"../data/aal/mean_matrix_116.csv\", header=None)"
     ],
     "language": "python",
     "metadata": {},
     "outputs": [],
     "prompt_number": 10
    },
    {
     "cell_type": "code",
     "collapsed": false,
     "input": [
      "aal_rs_fmri = np.array(aal_rs_fmri)"
     ],
     "language": "python",
     "metadata": {},
     "outputs": [],
     "prompt_number": 11
    },
    {
     "cell_type": "code",
     "collapsed": false,
     "input": [
      "pd.DataFrame(clf.feature_importances.data).to_csv(\"../data/rscomp/regions_by_features.csv\")"
     ],
     "language": "python",
     "metadata": {},
     "outputs": [],
     "prompt_number": 5
    },
    {
     "cell_type": "code",
     "collapsed": false,
     "input": [
      "pd.Series(clf.scores).to_csv(\"../data/rscomp/classification_performance.csv\")"
     ],
     "language": "python",
     "metadata": {},
     "outputs": [],
     "prompt_number": 6
    },
    {
     "cell_type": "markdown",
     "metadata": {},
     "source": [
      "Calculate correlations between regions based on functional labels"
     ]
    },
    {
     "cell_type": "code",
     "collapsed": false,
     "input": [
      "fi_coef = np.corrcoef(clf.feature_importances)"
     ],
     "language": "python",
     "metadata": {},
     "outputs": [],
     "prompt_number": 12
    },
    {
     "cell_type": "code",
     "collapsed": false,
     "input": [
      "fi_coef_d = pd.DataFrame(fi_coef)"
     ],
     "language": "python",
     "metadata": {},
     "outputs": [],
     "prompt_number": 13
    },
    {
     "cell_type": "code",
     "collapsed": false,
     "input": [
      "fi_coef_d.to_csv(\"../data/rscomp/aal_feature_corr.csv\")"
     ],
     "language": "python",
     "metadata": {},
     "outputs": [],
     "prompt_number": 9
    },
    {
     "cell_type": "code",
     "collapsed": false,
     "input": [
      "clf.feature_importances"
     ],
     "language": "python",
     "metadata": {},
     "outputs": [
      {
       "metadata": {},
       "output_type": "pyout",
       "prompt_number": 10,
       "text": [
        "masked_array(data =\n",
        " [[-0.0009228982948103755 -0.00013514910859692875 -0.00011281445261436844\n",
        "  ..., 0.0001011826781103873 -0.0010805358207287689 0.0009182128139250737]\n",
        " [-0.0009962936651697098 -0.000547862377060749 -0.0005862487503936666 ...,\n",
        "  0.0022327793372126014 -0.0017602448361119464 0.0012944335905914336]\n",
        " [-2.301834219840514e-05 -0.0005407456529501062 0.00013785100530423142 ...,\n",
        "  -0.00022149683619034682 -0.0005982342153501451 0.00014134948141559365]\n",
        " ..., \n",
        " [-0.00017476964046666003 -0.0005894377007622018 -0.00017291914825586424\n",
        "  ..., 6.605327097576589e-05 -0.00011753521713106739\n",
        "  -0.00014973348710809278]\n",
        " [-0.00015239432505741879 -0.0002486680464483557 -5.7738870547393424e-05\n",
        "  ..., 8.195396913443605e-05 -6.398294350502778e-05 -0.0001648863215612547]\n",
        " [0.00021227943574105647 -0.0001319826846715485 0.00036032237733970565 ...,\n",
        "  -0.0003195054273346391 0.00031561189887700287 -0.00031318014048024845]],\n",
        "             mask =\n",
        " [[False False False ..., False False False]\n",
        " [False False False ..., False False False]\n",
        " [False False False ..., False False False]\n",
        " ..., \n",
        " [False False False ..., False False False]\n",
        " [False False False ..., False False False]\n",
        " [False False False ..., False False False]],\n",
        "       fill_value = 1e+20)"
       ]
      }
     ],
     "prompt_number": 10
    },
    {
     "cell_type": "markdown",
     "metadata": {},
     "source": [
      "Correlation of activation in Neurosynth of regions"
     ]
    },
    {
     "cell_type": "code",
     "collapsed": false,
     "input": [
      "from neurosynth.analysis.reduce import average_within_regions\n",
      "import itertools\n",
      "a_coef = np.corrcoef(average_within_regions(dataset, '../masks/Andy/aal_MNI_V4.nii'))"
     ],
     "language": "python",
     "metadata": {},
     "outputs": [],
     "prompt_number": 14
    },
    {
     "cell_type": "markdown",
     "metadata": {},
     "source": [
      "### Results"
     ]
    },
    {
     "cell_type": "code",
     "collapsed": false,
     "input": [
      "sns.set_context(context=\"poster\")"
     ],
     "language": "python",
     "metadata": {},
     "outputs": [],
     "prompt_number": 78
    },
    {
     "cell_type": "code",
     "collapsed": false,
     "input": [
      "sns.regplot(a_coef.flatten(), aal_rs_fmri.flatten())"
     ],
     "language": "python",
     "metadata": {},
     "outputs": []
    },
    {
     "cell_type": "markdown",
     "metadata": {},
     "source": [
      "How correlated is Neurosynth activation with resting state coa"
     ]
    },
    {
     "cell_type": "code",
     "collapsed": false,
     "input": [
      "sns.regplot(fi_coef.flatten(), aal_rs_fmri.flatten())"
     ],
     "language": "python",
     "metadata": {},
     "outputs": [
      {
       "metadata": {},
       "output_type": "pyout",
       "prompt_number": 84,
       "text": [
        "<matplotlib.axes.AxesSubplot at 0x1162f1cd0>"
       ]
      },
      {
       "metadata": {},
       "output_type": "display_data",
       "png": "[encoded data removed]",
       "text": [
        "<matplotlib.figure.Figure at 0x1158779d0>"
       ]
      }
     ],
     "prompt_number": 84
    },
    {
     "cell_type": "markdown",
     "metadata": {},
     "source": [
      "Very correlated. This has been shown before though\n",
      "\n",
      "How correlated with region's functional labels from Neurosynth with resting state coactivation?"
     ]
    },
    {
     "cell_type": "code",
     "collapsed": false,
     "input": [
      "stats.pearsonr(a_coef.flatten(), fi_coef.flatten())"
     ],
     "language": "python",
     "metadata": {},
     "outputs": [
      {
       "metadata": {},
       "output_type": "pyout",
       "prompt_number": 81,
       "text": [
        "(0.69963781443695972, 0.0)"
       ]
      }
     ],
     "prompt_number": 81
    },
    {
     "cell_type": "code",
     "collapsed": false,
     "input": [
      "stats.pearsonr(pairwise.scores.flatten(), aal_rs_fmri.flatten())"
     ],
     "language": "python",
     "metadata": {},
     "outputs": [
      {
       "metadata": {},
       "output_type": "pyout",
       "prompt_number": 15,
       "text": [
        "(-0.31104040143041062, 1.1943109441906554e-299)"
       ]
      }
     ],
     "prompt_number": 15
    },
    {
     "cell_type": "code",
     "collapsed": false,
     "input": [
      "stats.pearsonr(pairwise_rz.scores.flatten(), aal_rs_fmri.flatten())"
     ],
     "language": "python",
     "metadata": {},
     "outputs": [
      {
       "metadata": {},
       "output_type": "pyout",
       "prompt_number": 16,
       "text": [
        "(-0.31923973822553869, 2.007991726173734e-316)"
       ]
      }
     ],
     "prompt_number": 16
    },
    {
     "cell_type": "markdown",
     "metadata": {},
     "source": [
      "Correlated fairly highly. Also interesting is that the sign of the correlations is almost the same. Most regions that are negatively correalted are so in both, and vice versa.\n",
      "\n",
      "This correlation is actually pretty healthy given that with these sets of masks, the classification accuracy was fairly low:"
     ]
    },
    {
     "cell_type": "code",
     "collapsed": false,
     "input": [
      "sns.distplot(clf.class_score, bins=20)"
     ],
     "language": "python",
     "metadata": {},
     "outputs": [
      {
       "metadata": {},
       "output_type": "pyout",
       "prompt_number": 16,
       "text": [
        "<matplotlib.axes.AxesSubplot at 0x1160a2c50>"
       ]
      },
      {
       "metadata": {},
       "output_type": "display_data",
       "png": "[encoded data removed]",
       "text": [
        "<matplotlib.figure.Figure at 0x115f96290>"
       ]
      }
     ],
     "prompt_number": 16
    },
    {
     "cell_type": "code",
     "collapsed": false,
     "input": [
      "clf.class_score.mean()\n",
      "# Pretty low performance"
     ],
     "language": "python",
     "metadata": {},
     "outputs": [
      {
       "metadata": {},
       "output_type": "pyout",
       "prompt_number": 17,
       "text": [
        "0.042843919903290777"
       ]
      }
     ],
     "prompt_number": 17
    },
    {
     "cell_type": "markdown",
     "metadata": {},
     "source": [
      "### Graph theory measures"
     ]
    },
    {
     "cell_type": "code",
     "collapsed": false,
     "input": [
      "import csv\n",
      "degrees = [open(file, 'rb') for file in glob.glob('../data/aal/d*')]"
     ],
     "language": "python",
     "metadata": {},
     "outputs": [],
     "prompt_number": 87
    },
    {
     "cell_type": "code",
     "collapsed": false,
     "input": [
      "with open('../data/aal/degree_15.csv', 'rb') as file:\n",
      "    reader = csv.reader(file)\n",
      "    degrees = list(reader)"
     ],
     "language": "python",
     "metadata": {},
     "outputs": [],
     "prompt_number": 88
    },
    {
     "cell_type": "code",
     "collapsed": false,
     "input": [
      "degrees[0] = [float(s) for s in degrees[0]]"
     ],
     "language": "python",
     "metadata": {},
     "outputs": [],
     "prompt_number": 89
    },
    {
     "cell_type": "code",
     "collapsed": false,
     "input": [
      "for input in ['../data/aal/degree_25.csv', '../data/aal/degree_40.csv', '../data/aal/participation_15.csv', '../data/aal/participation_25.csv', '../data/aal/participation_40.csv']:\n",
      "    with open(input, 'rb') as file:\n",
      "        res = []\n",
      "        reader = csv.reader(file)\n",
      "        for row in reader:\n",
      "            res.append(float(row[0]))\n",
      "        degrees.append(res)"
     ],
     "language": "python",
     "metadata": {},
     "outputs": [],
     "prompt_number": 90
    },
    {
     "cell_type": "code",
     "collapsed": false,
     "input": [
      "degrees = [range(1, len(degrees[0]) + 1)] + degrees"
     ],
     "language": "python",
     "metadata": {},
     "outputs": [],
     "prompt_number": 91
    },
    {
     "cell_type": "code",
     "collapsed": false,
     "input": [
      "deg_part = pd.DataFrame(np.array(degrees).T, columns = ['region', 'd_15', 'd_25', 'd_40', 'p_15', 'p_25', 'p_40'])"
     ],
     "language": "python",
     "metadata": {},
     "outputs": [],
     "prompt_number": 92
    },
    {
     "cell_type": "code",
     "collapsed": false,
     "input": [
      "deg_part['score'] = clf.class_score\n",
      "deg_part['fi_mean'] = clf.feature_importances.mean(axis=1)\n",
      "deg_part['fi_mean_abs'] = np.abs(clf.feature_importances).mean(axis=1)\n",
      "deg_part['fi_var'] = clf.feature_importances.var(axis=1)"
     ],
     "language": "python",
     "metadata": {},
     "outputs": [],
     "prompt_number": 95
    },
    {
     "cell_type": "code",
     "collapsed": false,
     "input": [
      "deg_part"
     ],
     "language": "python",
     "metadata": {},
     "outputs": [
      {
       "html": [
        "<div style=\"max-height:1000px;max-width:1500px;overflow:auto;\">\n",
        "<table border=\"1\" class=\"dataframe\">\n",
        "  <thead>\n",
        "    <tr style=\"text-align: right;\">\n",
        "      <th></th>\n",
        "      <th>region</th>\n",
        "      <th>d_15</th>\n",
        "      <th>d_25</th>\n",
        "      <th>d_40</th>\n",
        "      <th>p_15</th>\n",
        "      <th>p_25</th>\n",
        "      <th>p_40</th>\n",
        "      <th>fi_mean</th>\n",
        "      <th>fi_mean_abs</th>\n",
        "      <th>fi_var</th>\n",
        "    </tr>\n",
        "  </thead>\n",
        "  <tbody>\n",
        "    <tr>\n",
        "      <th>0  </th>\n",
        "      <td>   1</td>\n",
        "      <td> 15</td>\n",
        "      <td> 25</td>\n",
        "      <td> 34</td>\n",
        "      <td> 0.238860</td>\n",
        "      <td> 0.221370</td>\n",
        "      <td> 0.249740</td>\n",
        "      <td>-0.000012</td>\n",
        "      <td> 0.000670</td>\n",
        "      <td> 1.143612e-06</td>\n",
        "    </tr>\n",
        "    <tr>\n",
        "      <th>1  </th>\n",
        "      <td>   2</td>\n",
        "      <td> 16</td>\n",
        "      <td> 23</td>\n",
        "      <td> 33</td>\n",
        "      <td> 0.000000</td>\n",
        "      <td> 0.035806</td>\n",
        "      <td> 0.103320</td>\n",
        "      <td>-0.000048</td>\n",
        "      <td> 0.000927</td>\n",
        "      <td> 2.572336e-06</td>\n",
        "    </tr>\n",
        "    <tr>\n",
        "      <th>2  </th>\n",
        "      <td>   3</td>\n",
        "      <td> 21</td>\n",
        "      <td> 33</td>\n",
        "      <td> 52</td>\n",
        "      <td> 0.645480</td>\n",
        "      <td> 0.705680</td>\n",
        "      <td> 0.722210</td>\n",
        "      <td>-0.000013</td>\n",
        "      <td> 0.000317</td>\n",
        "      <td> 1.601174e-07</td>\n",
        "    </tr>\n",
        "    <tr>\n",
        "      <th>3  </th>\n",
        "      <td>   4</td>\n",
        "      <td> 18</td>\n",
        "      <td> 29</td>\n",
        "      <td> 52</td>\n",
        "      <td> 0.482890</td>\n",
        "      <td> 0.618670</td>\n",
        "      <td> 0.682000</td>\n",
        "      <td>-0.000020</td>\n",
        "      <td> 0.000421</td>\n",
        "      <td> 2.818623e-07</td>\n",
        "    </tr>\n",
        "    <tr>\n",
        "      <th>4  </th>\n",
        "      <td>   5</td>\n",
        "      <td> 19</td>\n",
        "      <td> 33</td>\n",
        "      <td> 55</td>\n",
        "      <td> 0.601950</td>\n",
        "      <td> 0.652370</td>\n",
        "      <td> 0.693260</td>\n",
        "      <td> 0.000002</td>\n",
        "      <td> 0.000304</td>\n",
        "      <td> 1.527654e-07</td>\n",
        "    </tr>\n",
        "    <tr>\n",
        "      <th>5  </th>\n",
        "      <td>   6</td>\n",
        "      <td> 15</td>\n",
        "      <td> 30</td>\n",
        "      <td> 55</td>\n",
        "      <td> 0.505210</td>\n",
        "      <td> 0.649800</td>\n",
        "      <td> 0.694380</td>\n",
        "      <td>-0.000002</td>\n",
        "      <td> 0.000270</td>\n",
        "      <td> 1.248735e-07</td>\n",
        "    </tr>\n",
        "    <tr>\n",
        "      <th>6  </th>\n",
        "      <td>   7</td>\n",
        "      <td> 14</td>\n",
        "      <td> 31</td>\n",
        "      <td> 51</td>\n",
        "      <td> 0.414540</td>\n",
        "      <td> 0.636740</td>\n",
        "      <td> 0.682970</td>\n",
        "      <td>-0.000031</td>\n",
        "      <td> 0.000563</td>\n",
        "      <td> 5.399656e-07</td>\n",
        "    </tr>\n",
        "    <tr>\n",
        "      <th>7  </th>\n",
        "      <td>   8</td>\n",
        "      <td> 17</td>\n",
        "      <td> 25</td>\n",
        "      <td> 43</td>\n",
        "      <td> 0.488770</td>\n",
        "      <td> 0.590730</td>\n",
        "      <td> 0.641050</td>\n",
        "      <td>-0.000060</td>\n",
        "      <td> 0.000531</td>\n",
        "      <td> 4.693703e-07</td>\n",
        "    </tr>\n",
        "    <tr>\n",
        "      <th>8  </th>\n",
        "      <td>   9</td>\n",
        "      <td> 19</td>\n",
        "      <td> 30</td>\n",
        "      <td> 50</td>\n",
        "      <td> 0.655430</td>\n",
        "      <td> 0.702610</td>\n",
        "      <td> 0.727790</td>\n",
        "      <td>-0.000007</td>\n",
        "      <td> 0.000383</td>\n",
        "      <td> 2.453142e-07</td>\n",
        "    </tr>\n",
        "    <tr>\n",
        "      <th>9  </th>\n",
        "      <td>  10</td>\n",
        "      <td> 16</td>\n",
        "      <td> 27</td>\n",
        "      <td> 47</td>\n",
        "      <td> 0.672380</td>\n",
        "      <td> 0.709470</td>\n",
        "      <td> 0.730980</td>\n",
        "      <td>-0.000019</td>\n",
        "      <td> 0.000411</td>\n",
        "      <td> 2.634848e-07</td>\n",
        "    </tr>\n",
        "    <tr>\n",
        "      <th>10 </th>\n",
        "      <td>  11</td>\n",
        "      <td> 12</td>\n",
        "      <td> 29</td>\n",
        "      <td> 41</td>\n",
        "      <td> 0.253520</td>\n",
        "      <td> 0.323160</td>\n",
        "      <td> 0.335120</td>\n",
        "      <td>-0.000042</td>\n",
        "      <td> 0.000883</td>\n",
        "      <td> 1.347956e-06</td>\n",
        "    </tr>\n",
        "    <tr>\n",
        "      <th>11 </th>\n",
        "      <td>  12</td>\n",
        "      <td> 15</td>\n",
        "      <td> 29</td>\n",
        "      <td> 45</td>\n",
        "      <td> 0.426230</td>\n",
        "      <td> 0.361280</td>\n",
        "      <td> 0.403280</td>\n",
        "      <td>-0.000042</td>\n",
        "      <td> 0.001482</td>\n",
        "      <td> 4.566326e-06</td>\n",
        "    </tr>\n",
        "    <tr>\n",
        "      <th>12 </th>\n",
        "      <td>  13</td>\n",
        "      <td> 13</td>\n",
        "      <td> 22</td>\n",
        "      <td> 41</td>\n",
        "      <td> 0.495010</td>\n",
        "      <td> 0.520340</td>\n",
        "      <td> 0.558310</td>\n",
        "      <td>-0.000036</td>\n",
        "      <td> 0.000757</td>\n",
        "      <td> 9.249610e-07</td>\n",
        "    </tr>\n",
        "    <tr>\n",
        "      <th>13 </th>\n",
        "      <td>  14</td>\n",
        "      <td> 13</td>\n",
        "      <td> 20</td>\n",
        "      <td> 40</td>\n",
        "      <td> 0.482880</td>\n",
        "      <td> 0.484980</td>\n",
        "      <td> 0.504970</td>\n",
        "      <td>-0.000086</td>\n",
        "      <td> 0.001350</td>\n",
        "      <td> 4.082349e-06</td>\n",
        "    </tr>\n",
        "    <tr>\n",
        "      <th>14 </th>\n",
        "      <td>  15</td>\n",
        "      <td> 24</td>\n",
        "      <td> 43</td>\n",
        "      <td> 60</td>\n",
        "      <td> 0.642670</td>\n",
        "      <td> 0.638210</td>\n",
        "      <td> 0.649920</td>\n",
        "      <td>-0.000027</td>\n",
        "      <td> 0.000622</td>\n",
        "      <td> 7.055504e-07</td>\n",
        "    </tr>\n",
        "    <tr>\n",
        "      <th>15 </th>\n",
        "      <td>  16</td>\n",
        "      <td> 25</td>\n",
        "      <td> 41</td>\n",
        "      <td> 63</td>\n",
        "      <td> 0.610810</td>\n",
        "      <td> 0.590130</td>\n",
        "      <td> 0.624710</td>\n",
        "      <td>-0.000030</td>\n",
        "      <td> 0.000838</td>\n",
        "      <td> 1.385022e-06</td>\n",
        "    </tr>\n",
        "    <tr>\n",
        "      <th>16 </th>\n",
        "      <td>  17</td>\n",
        "      <td> 22</td>\n",
        "      <td> 26</td>\n",
        "      <td> 34</td>\n",
        "      <td> 0.000000</td>\n",
        "      <td> 0.000000</td>\n",
        "      <td> 0.015647</td>\n",
        "      <td>-0.000048</td>\n",
        "      <td> 0.000677</td>\n",
        "      <td> 1.445455e-06</td>\n",
        "    </tr>\n",
        "    <tr>\n",
        "      <th>17 </th>\n",
        "      <td>  18</td>\n",
        "      <td> 21</td>\n",
        "      <td> 24</td>\n",
        "      <td> 30</td>\n",
        "      <td> 0.000000</td>\n",
        "      <td> 0.000000</td>\n",
        "      <td> 0.000000</td>\n",
        "      <td>-0.000096</td>\n",
        "      <td> 0.000895</td>\n",
        "      <td> 2.255890e-06</td>\n",
        "    </tr>\n",
        "    <tr>\n",
        "      <th>18 </th>\n",
        "      <td>  19</td>\n",
        "      <td> 24</td>\n",
        "      <td> 37</td>\n",
        "      <td> 45</td>\n",
        "      <td> 0.145800</td>\n",
        "      <td> 0.212210</td>\n",
        "      <td> 0.240320</td>\n",
        "      <td>-0.000063</td>\n",
        "      <td> 0.001013</td>\n",
        "      <td> 2.278047e-06</td>\n",
        "    </tr>\n",
        "    <tr>\n",
        "      <th>19 </th>\n",
        "      <td>  20</td>\n",
        "      <td> 23</td>\n",
        "      <td> 31</td>\n",
        "      <td> 42</td>\n",
        "      <td> 0.054338</td>\n",
        "      <td> 0.047279</td>\n",
        "      <td> 0.130300</td>\n",
        "      <td>-0.000042</td>\n",
        "      <td> 0.000817</td>\n",
        "      <td> 1.741548e-06</td>\n",
        "    </tr>\n",
        "    <tr>\n",
        "      <th>20 </th>\n",
        "      <td>  21</td>\n",
        "      <td> 20</td>\n",
        "      <td> 32</td>\n",
        "      <td> 64</td>\n",
        "      <td> 0.411440</td>\n",
        "      <td> 0.559200</td>\n",
        "      <td> 0.652960</td>\n",
        "      <td> 0.000003</td>\n",
        "      <td> 0.000706</td>\n",
        "      <td> 1.017892e-06</td>\n",
        "    </tr>\n",
        "    <tr>\n",
        "      <th>21 </th>\n",
        "      <td>  22</td>\n",
        "      <td> 16</td>\n",
        "      <td> 31</td>\n",
        "      <td> 61</td>\n",
        "      <td> 0.297930</td>\n",
        "      <td> 0.537800</td>\n",
        "      <td> 0.633870</td>\n",
        "      <td>-0.000008</td>\n",
        "      <td> 0.000637</td>\n",
        "      <td> 8.956767e-07</td>\n",
        "    </tr>\n",
        "    <tr>\n",
        "      <th>22 </th>\n",
        "      <td>  23</td>\n",
        "      <td> 23</td>\n",
        "      <td> 38</td>\n",
        "      <td> 58</td>\n",
        "      <td> 0.681410</td>\n",
        "      <td> 0.712460</td>\n",
        "      <td> 0.724890</td>\n",
        "      <td>-0.000008</td>\n",
        "      <td> 0.000598</td>\n",
        "      <td> 6.654650e-07</td>\n",
        "    </tr>\n",
        "    <tr>\n",
        "      <th>23 </th>\n",
        "      <td>  24</td>\n",
        "      <td> 25</td>\n",
        "      <td> 34</td>\n",
        "      <td> 57</td>\n",
        "      <td> 0.671290</td>\n",
        "      <td> 0.713780</td>\n",
        "      <td> 0.718600</td>\n",
        "      <td>-0.000035</td>\n",
        "      <td> 0.000601</td>\n",
        "      <td> 7.665078e-07</td>\n",
        "    </tr>\n",
        "    <tr>\n",
        "      <th>24 </th>\n",
        "      <td>  25</td>\n",
        "      <td> 20</td>\n",
        "      <td> 35</td>\n",
        "      <td> 49</td>\n",
        "      <td> 0.585810</td>\n",
        "      <td> 0.665700</td>\n",
        "      <td> 0.676410</td>\n",
        "      <td>-0.000010</td>\n",
        "      <td> 0.000752</td>\n",
        "      <td> 1.020694e-06</td>\n",
        "    </tr>\n",
        "    <tr>\n",
        "      <th>25 </th>\n",
        "      <td>  26</td>\n",
        "      <td> 20</td>\n",
        "      <td> 37</td>\n",
        "      <td> 51</td>\n",
        "      <td> 0.558960</td>\n",
        "      <td> 0.678640</td>\n",
        "      <td> 0.689520</td>\n",
        "      <td>-0.000018</td>\n",
        "      <td> 0.000715</td>\n",
        "      <td> 9.281547e-07</td>\n",
        "    </tr>\n",
        "    <tr>\n",
        "      <th>26 </th>\n",
        "      <td>  27</td>\n",
        "      <td> 22</td>\n",
        "      <td> 32</td>\n",
        "      <td> 52</td>\n",
        "      <td> 0.512960</td>\n",
        "      <td> 0.601320</td>\n",
        "      <td> 0.639490</td>\n",
        "      <td>-0.000018</td>\n",
        "      <td> 0.000497</td>\n",
        "      <td> 3.785812e-07</td>\n",
        "    </tr>\n",
        "    <tr>\n",
        "      <th>27 </th>\n",
        "      <td>  28</td>\n",
        "      <td> 20</td>\n",
        "      <td> 34</td>\n",
        "      <td> 54</td>\n",
        "      <td> 0.426880</td>\n",
        "      <td> 0.581710</td>\n",
        "      <td> 0.633560</td>\n",
        "      <td>-0.000023</td>\n",
        "      <td> 0.000469</td>\n",
        "      <td> 3.529649e-07</td>\n",
        "    </tr>\n",
        "    <tr>\n",
        "      <th>28 </th>\n",
        "      <td>  29</td>\n",
        "      <td> 23</td>\n",
        "      <td> 32</td>\n",
        "      <td> 43</td>\n",
        "      <td> 0.000000</td>\n",
        "      <td> 0.000000</td>\n",
        "      <td> 0.086304</td>\n",
        "      <td>-0.000021</td>\n",
        "      <td> 0.000843</td>\n",
        "      <td> 1.611561e-06</td>\n",
        "    </tr>\n",
        "    <tr>\n",
        "      <th>29 </th>\n",
        "      <td>  30</td>\n",
        "      <td> 23</td>\n",
        "      <td> 32</td>\n",
        "      <td> 41</td>\n",
        "      <td> 0.000000</td>\n",
        "      <td> 0.000000</td>\n",
        "      <td> 0.081186</td>\n",
        "      <td>-0.000053</td>\n",
        "      <td> 0.000941</td>\n",
        "      <td> 1.851997e-06</td>\n",
        "    </tr>\n",
        "    <tr>\n",
        "      <th>...</th>\n",
        "      <td>...</td>\n",
        "      <td>...</td>\n",
        "      <td>...</td>\n",
        "      <td>...</td>\n",
        "      <td>...</td>\n",
        "      <td>...</td>\n",
        "      <td>...</td>\n",
        "      <td>...</td>\n",
        "      <td>...</td>\n",
        "      <td>...</td>\n",
        "    </tr>\n",
        "    <tr>\n",
        "      <th>86 </th>\n",
        "      <td>  87</td>\n",
        "      <td> 16</td>\n",
        "      <td> 31</td>\n",
        "      <td> 51</td>\n",
        "      <td> 0.533220</td>\n",
        "      <td> 0.600210</td>\n",
        "      <td> 0.656480</td>\n",
        "      <td>-0.000010</td>\n",
        "      <td> 0.000326</td>\n",
        "      <td> 2.035371e-07</td>\n",
        "    </tr>\n",
        "    <tr>\n",
        "      <th>87 </th>\n",
        "      <td>  88</td>\n",
        "      <td> 15</td>\n",
        "      <td> 30</td>\n",
        "      <td> 49</td>\n",
        "      <td> 0.515940</td>\n",
        "      <td> 0.598470</td>\n",
        "      <td> 0.661480</td>\n",
        "      <td>-0.000013</td>\n",
        "      <td> 0.000397</td>\n",
        "      <td> 2.849783e-07</td>\n",
        "    </tr>\n",
        "    <tr>\n",
        "      <th>88 </th>\n",
        "      <td>  89</td>\n",
        "      <td> 18</td>\n",
        "      <td> 38</td>\n",
        "      <td> 56</td>\n",
        "      <td> 0.590450</td>\n",
        "      <td> 0.690920</td>\n",
        "      <td> 0.712040</td>\n",
        "      <td>-0.000003</td>\n",
        "      <td> 0.000321</td>\n",
        "      <td> 1.862308e-07</td>\n",
        "    </tr>\n",
        "    <tr>\n",
        "      <th>89 </th>\n",
        "      <td>  90</td>\n",
        "      <td> 18</td>\n",
        "      <td> 35</td>\n",
        "      <td> 57</td>\n",
        "      <td> 0.492810</td>\n",
        "      <td> 0.633700</td>\n",
        "      <td> 0.686900</td>\n",
        "      <td>-0.000008</td>\n",
        "      <td> 0.000429</td>\n",
        "      <td> 4.418924e-07</td>\n",
        "    </tr>\n",
        "    <tr>\n",
        "      <th>90 </th>\n",
        "      <td>  91</td>\n",
        "      <td> 20</td>\n",
        "      <td> 36</td>\n",
        "      <td> 56</td>\n",
        "      <td> 0.000000</td>\n",
        "      <td> 0.251830</td>\n",
        "      <td> 0.397660</td>\n",
        "      <td> 0.000015</td>\n",
        "      <td> 0.000317</td>\n",
        "      <td> 1.621985e-07</td>\n",
        "    </tr>\n",
        "    <tr>\n",
        "      <th>91 </th>\n",
        "      <td>  92</td>\n",
        "      <td> 22</td>\n",
        "      <td> 35</td>\n",
        "      <td> 61</td>\n",
        "      <td> 0.050511</td>\n",
        "      <td> 0.281280</td>\n",
        "      <td> 0.437180</td>\n",
        "      <td> 0.000003</td>\n",
        "      <td> 0.000290</td>\n",
        "      <td> 1.424117e-07</td>\n",
        "    </tr>\n",
        "    <tr>\n",
        "      <th>92 </th>\n",
        "      <td>  93</td>\n",
        "      <td> 23</td>\n",
        "      <td> 42</td>\n",
        "      <td> 62</td>\n",
        "      <td> 0.204520</td>\n",
        "      <td> 0.407900</td>\n",
        "      <td> 0.489880</td>\n",
        "      <td> 0.000000</td>\n",
        "      <td> 0.000225</td>\n",
        "      <td> 8.449388e-08</td>\n",
        "    </tr>\n",
        "    <tr>\n",
        "      <th>93 </th>\n",
        "      <td>  94</td>\n",
        "      <td> 26</td>\n",
        "      <td> 45</td>\n",
        "      <td> 68</td>\n",
        "      <td> 0.325740</td>\n",
        "      <td> 0.478230</td>\n",
        "      <td> 0.536600</td>\n",
        "      <td> 0.000002</td>\n",
        "      <td> 0.000170</td>\n",
        "      <td> 4.125592e-08</td>\n",
        "    </tr>\n",
        "    <tr>\n",
        "      <th>94 </th>\n",
        "      <td>  95</td>\n",
        "      <td>  8</td>\n",
        "      <td> 17</td>\n",
        "      <td> 46</td>\n",
        "      <td> 0.000000</td>\n",
        "      <td> 0.298940</td>\n",
        "      <td> 0.460420</td>\n",
        "      <td>-0.000019</td>\n",
        "      <td> 0.000552</td>\n",
        "      <td> 6.320846e-07</td>\n",
        "    </tr>\n",
        "    <tr>\n",
        "      <th>95 </th>\n",
        "      <td>  96</td>\n",
        "      <td> 12</td>\n",
        "      <td> 21</td>\n",
        "      <td> 50</td>\n",
        "      <td> 0.000000</td>\n",
        "      <td> 0.125410</td>\n",
        "      <td> 0.357500</td>\n",
        "      <td> 0.000003</td>\n",
        "      <td> 0.000393</td>\n",
        "      <td> 2.592938e-07</td>\n",
        "    </tr>\n",
        "    <tr>\n",
        "      <th>96 </th>\n",
        "      <td>  97</td>\n",
        "      <td> 21</td>\n",
        "      <td> 36</td>\n",
        "      <td> 54</td>\n",
        "      <td> 0.127220</td>\n",
        "      <td> 0.267340</td>\n",
        "      <td> 0.388550</td>\n",
        "      <td>-0.000007</td>\n",
        "      <td> 0.000515</td>\n",
        "      <td> 8.825738e-07</td>\n",
        "    </tr>\n",
        "    <tr>\n",
        "      <th>97 </th>\n",
        "      <td>  98</td>\n",
        "      <td> 20</td>\n",
        "      <td> 32</td>\n",
        "      <td> 51</td>\n",
        "      <td> 0.308150</td>\n",
        "      <td> 0.362940</td>\n",
        "      <td> 0.429590</td>\n",
        "      <td>-0.000002</td>\n",
        "      <td> 0.000467</td>\n",
        "      <td> 4.817448e-07</td>\n",
        "    </tr>\n",
        "    <tr>\n",
        "      <th>98 </th>\n",
        "      <td>  99</td>\n",
        "      <td> 23</td>\n",
        "      <td> 35</td>\n",
        "      <td> 47</td>\n",
        "      <td> 0.229000</td>\n",
        "      <td> 0.319260</td>\n",
        "      <td> 0.372890</td>\n",
        "      <td>-0.000026</td>\n",
        "      <td> 0.000618</td>\n",
        "      <td> 1.084321e-06</td>\n",
        "    </tr>\n",
        "    <tr>\n",
        "      <th>99 </th>\n",
        "      <td> 100</td>\n",
        "      <td> 28</td>\n",
        "      <td> 36</td>\n",
        "      <td> 45</td>\n",
        "      <td> 0.265450</td>\n",
        "      <td> 0.312700</td>\n",
        "      <td> 0.343900</td>\n",
        "      <td>-0.000016</td>\n",
        "      <td> 0.000580</td>\n",
        "      <td> 7.847773e-07</td>\n",
        "    </tr>\n",
        "    <tr>\n",
        "      <th>100</th>\n",
        "      <td> 101</td>\n",
        "      <td> 18</td>\n",
        "      <td> 28</td>\n",
        "      <td> 48</td>\n",
        "      <td> 0.060578</td>\n",
        "      <td> 0.230040</td>\n",
        "      <td> 0.328220</td>\n",
        "      <td>-0.000001</td>\n",
        "      <td> 0.000225</td>\n",
        "      <td> 8.525050e-08</td>\n",
        "    </tr>\n",
        "    <tr>\n",
        "      <th>101</th>\n",
        "      <td> 102</td>\n",
        "      <td> 18</td>\n",
        "      <td> 35</td>\n",
        "      <td> 59</td>\n",
        "      <td> 0.143720</td>\n",
        "      <td> 0.328230</td>\n",
        "      <td> 0.435700</td>\n",
        "      <td>-0.000009</td>\n",
        "      <td> 0.000206</td>\n",
        "      <td> 6.558018e-08</td>\n",
        "    </tr>\n",
        "    <tr>\n",
        "      <th>102</th>\n",
        "      <td> 103</td>\n",
        "      <td> 20</td>\n",
        "      <td> 29</td>\n",
        "      <td> 48</td>\n",
        "      <td> 0.000000</td>\n",
        "      <td> 0.084742</td>\n",
        "      <td> 0.246620</td>\n",
        "      <td>-0.000007</td>\n",
        "      <td> 0.000242</td>\n",
        "      <td> 1.315835e-07</td>\n",
        "    </tr>\n",
        "    <tr>\n",
        "      <th>103</th>\n",
        "      <td> 104</td>\n",
        "      <td> 22</td>\n",
        "      <td> 32</td>\n",
        "      <td> 50</td>\n",
        "      <td> 0.107860</td>\n",
        "      <td> 0.223230</td>\n",
        "      <td> 0.313490</td>\n",
        "      <td>-0.000000</td>\n",
        "      <td> 0.000214</td>\n",
        "      <td> 8.143317e-08</td>\n",
        "    </tr>\n",
        "    <tr>\n",
        "      <th>104</th>\n",
        "      <td> 105</td>\n",
        "      <td> 23</td>\n",
        "      <td> 33</td>\n",
        "      <td> 51</td>\n",
        "      <td> 0.000000</td>\n",
        "      <td> 0.075549</td>\n",
        "      <td> 0.234000</td>\n",
        "      <td> 0.000009</td>\n",
        "      <td> 0.000267</td>\n",
        "      <td> 1.599030e-07</td>\n",
        "    </tr>\n",
        "    <tr>\n",
        "      <th>105</th>\n",
        "      <td> 106</td>\n",
        "      <td> 23</td>\n",
        "      <td> 33</td>\n",
        "      <td> 56</td>\n",
        "      <td> 0.000000</td>\n",
        "      <td> 0.050479</td>\n",
        "      <td> 0.277390</td>\n",
        "      <td> 0.000014</td>\n",
        "      <td> 0.000231</td>\n",
        "      <td> 1.032341e-07</td>\n",
        "    </tr>\n",
        "    <tr>\n",
        "      <th>106</th>\n",
        "      <td> 107</td>\n",
        "      <td> 18</td>\n",
        "      <td> 30</td>\n",
        "      <td> 44</td>\n",
        "      <td> 0.000000</td>\n",
        "      <td> 0.032527</td>\n",
        "      <td> 0.210630</td>\n",
        "      <td> 0.000010</td>\n",
        "      <td> 0.000186</td>\n",
        "      <td> 7.203973e-08</td>\n",
        "    </tr>\n",
        "    <tr>\n",
        "      <th>107</th>\n",
        "      <td> 108</td>\n",
        "      <td> 19</td>\n",
        "      <td> 24</td>\n",
        "      <td> 47</td>\n",
        "      <td> 0.000000</td>\n",
        "      <td> 0.000000</td>\n",
        "      <td> 0.212710</td>\n",
        "      <td>-0.000003</td>\n",
        "      <td> 0.000314</td>\n",
        "      <td> 1.483936e-07</td>\n",
        "    </tr>\n",
        "    <tr>\n",
        "      <th>108</th>\n",
        "      <td> 109</td>\n",
        "      <td> 11</td>\n",
        "      <td> 17</td>\n",
        "      <td> 37</td>\n",
        "      <td> 0.000000</td>\n",
        "      <td> 0.128800</td>\n",
        "      <td> 0.307030</td>\n",
        "      <td> 0.000020</td>\n",
        "      <td> 0.000532</td>\n",
        "      <td> 6.042205e-07</td>\n",
        "    </tr>\n",
        "    <tr>\n",
        "      <th>109</th>\n",
        "      <td> 110</td>\n",
        "      <td> 13</td>\n",
        "      <td> 33</td>\n",
        "      <td> 48</td>\n",
        "      <td> 0.097406</td>\n",
        "      <td> 0.250070</td>\n",
        "      <td> 0.350110</td>\n",
        "      <td>-0.000005</td>\n",
        "      <td> 0.000540</td>\n",
        "      <td> 5.155016e-07</td>\n",
        "    </tr>\n",
        "    <tr>\n",
        "      <th>110</th>\n",
        "      <td> 111</td>\n",
        "      <td> 23</td>\n",
        "      <td> 38</td>\n",
        "      <td> 55</td>\n",
        "      <td> 0.000000</td>\n",
        "      <td> 0.212950</td>\n",
        "      <td> 0.361410</td>\n",
        "      <td>-0.000013</td>\n",
        "      <td> 0.000538</td>\n",
        "      <td> 6.121468e-07</td>\n",
        "    </tr>\n",
        "    <tr>\n",
        "      <th>111</th>\n",
        "      <td> 112</td>\n",
        "      <td> 26</td>\n",
        "      <td> 33</td>\n",
        "      <td> 48</td>\n",
        "      <td> 0.000000</td>\n",
        "      <td> 0.052792</td>\n",
        "      <td> 0.205470</td>\n",
        "      <td>-0.000007</td>\n",
        "      <td> 0.000631</td>\n",
        "      <td> 1.015123e-06</td>\n",
        "    </tr>\n",
        "    <tr>\n",
        "      <th>112</th>\n",
        "      <td> 113</td>\n",
        "      <td> 21</td>\n",
        "      <td> 30</td>\n",
        "      <td> 50</td>\n",
        "      <td> 0.000000</td>\n",
        "      <td> 0.033405</td>\n",
        "      <td> 0.230420</td>\n",
        "      <td> 0.000042</td>\n",
        "      <td> 0.000585</td>\n",
        "      <td> 7.388370e-07</td>\n",
        "    </tr>\n",
        "    <tr>\n",
        "      <th>113</th>\n",
        "      <td> 114</td>\n",
        "      <td> 24</td>\n",
        "      <td> 28</td>\n",
        "      <td> 45</td>\n",
        "      <td> 0.000000</td>\n",
        "      <td> 0.000000</td>\n",
        "      <td> 0.181520</td>\n",
        "      <td>-0.000007</td>\n",
        "      <td> 0.000470</td>\n",
        "      <td> 3.839826e-07</td>\n",
        "    </tr>\n",
        "    <tr>\n",
        "      <th>114</th>\n",
        "      <td> 115</td>\n",
        "      <td> 24</td>\n",
        "      <td> 30</td>\n",
        "      <td> 45</td>\n",
        "      <td> 0.000000</td>\n",
        "      <td> 0.000000</td>\n",
        "      <td> 0.168890</td>\n",
        "      <td>-0.000009</td>\n",
        "      <td> 0.000433</td>\n",
        "      <td> 3.151014e-07</td>\n",
        "    </tr>\n",
        "    <tr>\n",
        "      <th>115</th>\n",
        "      <td> 116</td>\n",
        "      <td>  7</td>\n",
        "      <td> 12</td>\n",
        "      <td> 47</td>\n",
        "      <td> 0.000000</td>\n",
        "      <td> 0.067797</td>\n",
        "      <td> 0.432160</td>\n",
        "      <td> 0.000015</td>\n",
        "      <td> 0.000371</td>\n",
        "      <td> 2.364027e-07</td>\n",
        "    </tr>\n",
        "  </tbody>\n",
        "</table>\n",
        "<p>116 rows \u00d7 10 columns</p>\n",
        "</div>"
       ],
       "metadata": {},
       "output_type": "pyout",
       "prompt_number": 94,
       "text": [
        "     region  d_15  d_25  d_40      p_15      p_25      p_40   fi_mean  \\\n",
        "0         1    15    25    34  0.238860  0.221370  0.249740 -0.000012   \n",
        "1         2    16    23    33  0.000000  0.035806  0.103320 -0.000048   \n",
        "2         3    21    33    52  0.645480  0.705680  0.722210 -0.000013   \n",
        "3         4    18    29    52  0.482890  0.618670  0.682000 -0.000020   \n",
        "4         5    19    33    55  0.601950  0.652370  0.693260  0.000002   \n",
        "5         6    15    30    55  0.505210  0.649800  0.694380 -0.000002   \n",
        "6         7    14    31    51  0.414540  0.636740  0.682970 -0.000031   \n",
        "7         8    17    25    43  0.488770  0.590730  0.641050 -0.000060   \n",
        "8         9    19    30    50  0.655430  0.702610  0.727790 -0.000007   \n",
        "9        10    16    27    47  0.672380  0.709470  0.730980 -0.000019   \n",
        "10       11    12    29    41  0.253520  0.323160  0.335120 -0.000042   \n",
        "11       12    15    29    45  0.426230  0.361280  0.403280 -0.000042   \n",
        "12       13    13    22    41  0.495010  0.520340  0.558310 -0.000036   \n",
        "13       14    13    20    40  0.482880  0.484980  0.504970 -0.000086   \n",
        "14       15    24    43    60  0.642670  0.638210  0.649920 -0.000027   \n",
        "15       16    25    41    63  0.610810  0.590130  0.624710 -0.000030   \n",
        "16       17    22    26    34  0.000000  0.000000  0.015647 -0.000048   \n",
        "17       18    21    24    30  0.000000  0.000000  0.000000 -0.000096   \n",
        "18       19    24    37    45  0.145800  0.212210  0.240320 -0.000063   \n",
        "19       20    23    31    42  0.054338  0.047279  0.130300 -0.000042   \n",
        "20       21    20    32    64  0.411440  0.559200  0.652960  0.000003   \n",
        "21       22    16    31    61  0.297930  0.537800  0.633870 -0.000008   \n",
        "22       23    23    38    58  0.681410  0.712460  0.724890 -0.000008   \n",
        "23       24    25    34    57  0.671290  0.713780  0.718600 -0.000035   \n",
        "24       25    20    35    49  0.585810  0.665700  0.676410 -0.000010   \n",
        "25       26    20    37    51  0.558960  0.678640  0.689520 -0.000018   \n",
        "26       27    22    32    52  0.512960  0.601320  0.639490 -0.000018   \n",
        "27       28    20    34    54  0.426880  0.581710  0.633560 -0.000023   \n",
        "28       29    23    32    43  0.000000  0.000000  0.086304 -0.000021   \n",
        "29       30    23    32    41  0.000000  0.000000  0.081186 -0.000053   \n",
        "..      ...   ...   ...   ...       ...       ...       ...       ...   \n",
        "86       87    16    31    51  0.533220  0.600210  0.656480 -0.000010   \n",
        "87       88    15    30    49  0.515940  0.598470  0.661480 -0.000013   \n",
        "88       89    18    38    56  0.590450  0.690920  0.712040 -0.000003   \n",
        "89       90    18    35    57  0.492810  0.633700  0.686900 -0.000008   \n",
        "90       91    20    36    56  0.000000  0.251830  0.397660  0.000015   \n",
        "91       92    22    35    61  0.050511  0.281280  0.437180  0.000003   \n",
        "92       93    23    42    62  0.204520  0.407900  0.489880  0.000000   \n",
        "93       94    26    45    68  0.325740  0.478230  0.536600  0.000002   \n",
        "94       95     8    17    46  0.000000  0.298940  0.460420 -0.000019   \n",
        "95       96    12    21    50  0.000000  0.125410  0.357500  0.000003   \n",
        "96       97    21    36    54  0.127220  0.267340  0.388550 -0.000007   \n",
        "97       98    20    32    51  0.308150  0.362940  0.429590 -0.000002   \n",
        "98       99    23    35    47  0.229000  0.319260  0.372890 -0.000026   \n",
        "99      100    28    36    45  0.265450  0.312700  0.343900 -0.000016   \n",
        "100     101    18    28    48  0.060578  0.230040  0.328220 -0.000001   \n",
        "101     102    18    35    59  0.143720  0.328230  0.435700 -0.000009   \n",
        "102     103    20    29    48  0.000000  0.084742  0.246620 -0.000007   \n",
        "103     104    22    32    50  0.107860  0.223230  0.313490 -0.000000   \n",
        "104     105    23    33    51  0.000000  0.075549  0.234000  0.000009   \n",
        "105     106    23    33    56  0.000000  0.050479  0.277390  0.000014   \n",
        "106     107    18    30    44  0.000000  0.032527  0.210630  0.000010   \n",
        "107     108    19    24    47  0.000000  0.000000  0.212710 -0.000003   \n",
        "108     109    11    17    37  0.000000  0.128800  0.307030  0.000020   \n",
        "109     110    13    33    48  0.097406  0.250070  0.350110 -0.000005   \n",
        "110     111    23    38    55  0.000000  0.212950  0.361410 -0.000013   \n",
        "111     112    26    33    48  0.000000  0.052792  0.205470 -0.000007   \n",
        "112     113    21    30    50  0.000000  0.033405  0.230420  0.000042   \n",
        "113     114    24    28    45  0.000000  0.000000  0.181520 -0.000007   \n",
        "114     115    24    30    45  0.000000  0.000000  0.168890 -0.000009   \n",
        "115     116     7    12    47  0.000000  0.067797  0.432160  0.000015   \n",
        "\n",
        "     fi_mean_abs        fi_var  \n",
        "0       0.000670  1.143612e-06  \n",
        "1       0.000927  2.572336e-06  \n",
        "2       0.000317  1.601174e-07  \n",
        "3       0.000421  2.818623e-07  \n",
        "4       0.000304  1.527654e-07  \n",
        "5       0.000270  1.248735e-07  \n",
        "6       0.000563  5.399656e-07  \n",
        "7       0.000531  4.693703e-07  \n",
        "8       0.000383  2.453142e-07  \n",
        "9       0.000411  2.634848e-07  \n",
        "10      0.000883  1.347956e-06  \n",
        "11      0.001482  4.566326e-06  \n",
        "12      0.000757  9.249610e-07  \n",
        "13      0.001350  4.082349e-06  \n",
        "14      0.000622  7.055504e-07  \n",
        "15      0.000838  1.385022e-06  \n",
        "16      0.000677  1.445455e-06  \n",
        "17      0.000895  2.255890e-06  \n",
        "18      0.001013  2.278047e-06  \n",
        "19      0.000817  1.741548e-06  \n",
        "20      0.000706  1.017892e-06  \n",
        "21      0.000637  8.956767e-07  \n",
        "22      0.000598  6.654650e-07  \n",
        "23      0.000601  7.665078e-07  \n",
        "24      0.000752  1.020694e-06  \n",
        "25      0.000715  9.281547e-07  \n",
        "26      0.000497  3.785812e-07  \n",
        "27      0.000469  3.529649e-07  \n",
        "28      0.000843  1.611561e-06  \n",
        "29      0.000941  1.851997e-06  \n",
        "..           ...           ...  \n",
        "86      0.000326  2.035371e-07  \n",
        "87      0.000397  2.849783e-07  \n",
        "88      0.000321  1.862308e-07  \n",
        "89      0.000429  4.418924e-07  \n",
        "90      0.000317  1.621985e-07  \n",
        "91      0.000290  1.424117e-07  \n",
        "92      0.000225  8.449388e-08  \n",
        "93      0.000170  4.125592e-08  \n",
        "94      0.000552  6.320846e-07  \n",
        "95      0.000393  2.592938e-07  \n",
        "96      0.000515  8.825738e-07  \n",
        "97      0.000467  4.817448e-07  \n",
        "98      0.000618  1.084321e-06  \n",
        "99      0.000580  7.847773e-07  \n",
        "100     0.000225  8.525050e-08  \n",
        "101     0.000206  6.558018e-08  \n",
        "102     0.000242  1.315835e-07  \n",
        "103     0.000214  8.143317e-08  \n",
        "104     0.000267  1.599030e-07  \n",
        "105     0.000231  1.032341e-07  \n",
        "106     0.000186  7.203973e-08  \n",
        "107     0.000314  1.483936e-07  \n",
        "108     0.000532  6.042205e-07  \n",
        "109     0.000540  5.155016e-07  \n",
        "110     0.000538  6.121468e-07  \n",
        "111     0.000631  1.015123e-06  \n",
        "112     0.000585  7.388370e-07  \n",
        "113     0.000470  3.839826e-07  \n",
        "114     0.000433  3.151014e-07  \n",
        "115     0.000371  2.364027e-07  \n",
        "\n",
        "[116 rows x 10 columns]"
       ]
      }
     ],
     "prompt_number": 94
    },
    {
     "cell_type": "code",
     "collapsed": false,
     "input": [
      "np.set_printoptions(threshold='nan')\n",
      "np.corrcoef(deg_part.T[1:])"
     ],
     "language": "python",
     "metadata": {},
     "outputs": [
      {
       "metadata": {},
       "output_type": "pyout",
       "prompt_number": 192,
       "text": [
        "array([[ 1.        ,  0.67345497,  0.3832869 , -0.05173486, -0.09226927,\n",
        "        -0.12051728, -0.01765204, -0.04438152, -0.21911796, -0.17493781],\n",
        "       [ 0.67345497,  1.        ,  0.78904194,  0.29034759,  0.31431014,\n",
        "         0.29784497, -0.05729946, -0.20900451, -0.02811993,  0.01619599],\n",
        "       [ 0.3832869 ,  0.78904194,  1.        ,  0.39176382,  0.45552679,\n",
        "         0.53525179, -0.20938509, -0.11982895, -0.02857566,  0.05207356],\n",
        "       [-0.05173486,  0.29034759,  0.39176382,  1.        ,  0.95511411,\n",
        "         0.90696857,  0.12711906, -0.12087688,  0.26749318,  0.14044082],\n",
        "       [-0.09226927,  0.31431014,  0.45552679,  0.95511411,  1.        ,\n",
        "         0.97232778,  0.0182537 , -0.01462828,  0.14471434,  0.03832499],\n",
        "       [-0.12051728,  0.29784497,  0.53525179,  0.90696857,  0.97232778,\n",
        "         1.        , -0.10193786,  0.08429611,  0.05724756, -0.0151464 ],\n",
        "       [-0.01765204, -0.05729946, -0.20938509,  0.12711906,  0.0182537 ,\n",
        "        -0.10193786,  1.        , -0.53936576,  0.70654235,  0.58128228],\n",
        "       [-0.04438152, -0.20900451, -0.11982895, -0.12087688, -0.01462828,\n",
        "         0.08429611, -0.53936576,  1.        , -0.60296665, -0.59574639],\n",
        "       [-0.21911796, -0.02811993, -0.02857566,  0.26749318,  0.14471434,\n",
        "         0.05724756,  0.70654235, -0.60296665,  1.        ,  0.88808082],\n",
        "       [-0.17493781,  0.01619599,  0.05207356,  0.14044082,  0.03832499,\n",
        "        -0.0151464 ,  0.58128228, -0.59574639,  0.88808082,  1.        ]])"
       ]
      }
     ],
     "prompt_number": 192
    },
    {
     "cell_type": "code",
     "collapsed": false,
     "input": [
      "sns.regplot('p_15', 'fi_mean_abs',data=deg_part )"
     ],
     "language": "python",
     "metadata": {},
     "outputs": [
      {
       "metadata": {},
       "output_type": "pyout",
       "prompt_number": 85,
       "text": [
        "<matplotlib.axes.AxesSubplot at 0x115a52590>"
       ]
      },
      {
       "metadata": {},
       "output_type": "display_data",
       "png": "[encoded data removed]",
       "text": [
        "<matplotlib.figure.Figure at 0x115877950>"
       ]
      }
     ],
     "prompt_number": 85
    },
    {
     "cell_type": "code",
     "collapsed": false,
     "input": [
      "stats.spearmanr(deg_part.p_15, deg_part.fi_mean_abs)"
     ],
     "language": "python",
     "metadata": {},
     "outputs": [
      {
       "metadata": {},
       "output_type": "pyout",
       "prompt_number": 107,
       "text": [
        "(0.21342136151413732, 0.0214315142249593)"
       ]
      }
     ],
     "prompt_number": 107
    },
    {
     "cell_type": "code",
     "collapsed": false,
     "input": [
      "stats.spearmanr(deg_part.p_15, deg_part.score)"
     ],
     "language": "python",
     "metadata": {},
     "outputs": [
      {
       "metadata": {},
       "output_type": "pyout",
       "prompt_number": 220,
       "text": [
        "(0.2382438525706039, 0.010013233093231329)"
       ]
      }
     ],
     "prompt_number": 220
    },
    {
     "cell_type": "code",
     "collapsed": false,
     "input": [
      "stats.spearmanr(deg_part.d_40, deg_part.score)"
     ],
     "language": "python",
     "metadata": {},
     "outputs": [
      {
       "metadata": {},
       "output_type": "pyout",
       "prompt_number": 219,
       "text": [
        "(-0.20045549079099306, 0.030963609149613457)"
       ]
      }
     ],
     "prompt_number": 219
    },
    {
     "cell_type": "code",
     "collapsed": false,
     "input": [
      "stats.spearmanr(deg_part.d_15, deg_part.fi_var)"
     ],
     "language": "python",
     "metadata": {},
     "outputs": [
      {
       "metadata": {},
       "output_type": "pyout",
       "prompt_number": 218,
       "text": [
        "(-0.16997489538797134, 0.068128198163346587)"
       ]
      }
     ],
     "prompt_number": 218
    },
    {
     "cell_type": "code",
     "collapsed": false,
     "input": [
      "stats.spearmanr(deg_part.p_15, deg_part.fi_var)"
     ],
     "language": "python",
     "metadata": {},
     "outputs": [
      {
       "metadata": {},
       "output_type": "pyout",
       "prompt_number": 29,
       "text": [
        "(0.12367342859750272, 0.18594768594553027)"
       ]
      }
     ],
     "prompt_number": 29
    },
    {
     "cell_type": "markdown",
     "metadata": {},
     "source": [
      "## Multivariateness measure"
     ]
    },
    {
     "cell_type": "code",
     "collapsed": false,
     "input": [
      "from sklearn.linear_model import Ridge\n",
      "from sklearn.cross_validation import cross_val_score\n",
      "from sklearn.metrics import r2_score\n",
      "from sklearn.cross_validation import StratifiedKFold\n",
      "from sklearn.metrics import make_scorer"
     ],
     "language": "python",
     "metadata": {},
     "outputs": [],
     "prompt_number": 49
    },
    {
     "cell_type": "code",
     "collapsed": false,
     "input": [
      "scorer = make_scorer(r2_score)\n",
      "classifier = Ridge()"
     ],
     "language": "python",
     "metadata": {},
     "outputs": [],
     "prompt_number": 50
    },
    {
     "cell_type": "code",
     "collapsed": false,
     "input": [
      "n_topics = clf.X.shape[1]\n",
      "n_regions = clf.y.shape[0]"
     ],
     "language": "python",
     "metadata": {},
     "outputs": [],
     "prompt_number": 51
    },
    {
     "cell_type": "code",
     "collapsed": false,
     "input": [
      "results = []\n",
      "for reg in range(0, n_regions):\n",
      "    print reg\n",
      "    X = clf.X\n",
      "    y = clf.y[reg]\n",
      "    fis = clf.feature_importances[reg]\n",
      "\n",
      "    for i in range(1, n_topics):\n",
      "        X_1 =  X[:, np.abs(fis).argsort()[::-1][0:i]]\n",
      "        results.append([cross_val_score(classifier, X_1, y, cv=4, scoring=scorer).mean(), i, reg])\n",
      "results = pd.DataFrame(results, columns=['score', 'num_features', 'region'])"
     ],
     "language": "python",
     "metadata": {},
     "outputs": [
      {
       "output_type": "stream",
       "stream": "stdout",
       "text": [
        "0\n",
        "1"
       ]
      },
      {
       "output_type": "stream",
       "stream": "stdout",
       "text": [
        "\n",
        "2"
       ]
      },
      {
       "output_type": "stream",
       "stream": "stdout",
       "text": [
        "\n",
        "3"
       ]
      },
      {
       "output_type": "stream",
       "stream": "stdout",
       "text": [
        "\n",
        "4"
       ]
      },
      {
       "output_type": "stream",
       "stream": "stdout",
       "text": [
        "\n",
        "5"
       ]
      },
      {
       "output_type": "stream",
       "stream": "stdout",
       "text": [
        "\n",
        "6"
       ]
      },
      {
       "output_type": "stream",
       "stream": "stdout",
       "text": [
        "\n",
        "7"
       ]
      },
      {
       "output_type": "stream",
       "stream": "stdout",
       "text": [
        "\n",
        "8"
       ]
      },
      {
       "output_type": "stream",
       "stream": "stdout",
       "text": [
        "\n",
        "9"
       ]
      },
      {
       "output_type": "stream",
       "stream": "stdout",
       "text": [
        "\n",
        "10"
       ]
      },
      {
       "output_type": "stream",
       "stream": "stdout",
       "text": [
        "\n",
        "11"
       ]
      },
      {
       "output_type": "stream",
       "stream": "stdout",
       "text": [
        "\n",
        "12"
       ]
      },
      {
       "output_type": "stream",
       "stream": "stdout",
       "text": [
        "\n",
        "13"
       ]
      },
      {
       "output_type": "stream",
       "stream": "stdout",
       "text": [
        "\n",
        "14"
       ]
      },
      {
       "output_type": "stream",
       "stream": "stdout",
       "text": [
        "\n",
        "15"
       ]
      },
      {
       "output_type": "stream",
       "stream": "stdout",
       "text": [
        "\n",
        "16"
       ]
      },
      {
       "output_type": "stream",
       "stream": "stdout",
       "text": [
        "\n",
        "17"
       ]
      },
      {
       "output_type": "stream",
       "stream": "stdout",
       "text": [
        "\n",
        "18"
       ]
      },
      {
       "output_type": "stream",
       "stream": "stdout",
       "text": [
        "\n",
        "19"
       ]
      },
      {
       "output_type": "stream",
       "stream": "stdout",
       "text": [
        "\n",
        "20"
       ]
      },
      {
       "output_type": "stream",
       "stream": "stdout",
       "text": [
        "\n",
        "21"
       ]
      },
      {
       "output_type": "stream",
       "stream": "stdout",
       "text": [
        "\n",
        "22"
       ]
      },
      {
       "output_type": "stream",
       "stream": "stdout",
       "text": [
        "\n",
        "23"
       ]
      },
      {
       "output_type": "stream",
       "stream": "stdout",
       "text": [
        "\n",
        "24"
       ]
      },
      {
       "output_type": "stream",
       "stream": "stdout",
       "text": [
        "\n",
        "25"
       ]
      },
      {
       "output_type": "stream",
       "stream": "stdout",
       "text": [
        "\n",
        "26"
       ]
      },
      {
       "output_type": "stream",
       "stream": "stdout",
       "text": [
        "\n",
        "27"
       ]
      },
      {
       "output_type": "stream",
       "stream": "stdout",
       "text": [
        "\n",
        "28"
       ]
      },
      {
       "output_type": "stream",
       "stream": "stdout",
       "text": [
        "\n",
        "29"
       ]
      },
      {
       "output_type": "stream",
       "stream": "stdout",
       "text": [
        "\n",
        "30"
       ]
      },
      {
       "output_type": "stream",
       "stream": "stdout",
       "text": [
        "\n",
        "31"
       ]
      },
      {
       "output_type": "stream",
       "stream": "stdout",
       "text": [
        "\n",
        "32"
       ]
      },
      {
       "output_type": "stream",
       "stream": "stdout",
       "text": [
        "\n",
        "33"
       ]
      },
      {
       "output_type": "stream",
       "stream": "stdout",
       "text": [
        "\n",
        "34"
       ]
      },
      {
       "output_type": "stream",
       "stream": "stdout",
       "text": [
        "\n",
        "35"
       ]
      },
      {
       "output_type": "stream",
       "stream": "stdout",
       "text": [
        "\n",
        "36"
       ]
      },
      {
       "output_type": "stream",
       "stream": "stdout",
       "text": [
        "\n",
        "37"
       ]
      },
      {
       "output_type": "stream",
       "stream": "stdout",
       "text": [
        "\n",
        "38"
       ]
      },
      {
       "output_type": "stream",
       "stream": "stdout",
       "text": [
        "\n",
        "39"
       ]
      },
      {
       "output_type": "stream",
       "stream": "stdout",
       "text": [
        "\n",
        "40"
       ]
      },
      {
       "output_type": "stream",
       "stream": "stdout",
       "text": [
        "\n",
        "41"
       ]
      },
      {
       "output_type": "stream",
       "stream": "stdout",
       "text": [
        "\n",
        "42"
       ]
      },
      {
       "output_type": "stream",
       "stream": "stdout",
       "text": [
        "\n",
        "43"
       ]
      },
      {
       "output_type": "stream",
       "stream": "stdout",
       "text": [
        "\n",
        "44"
       ]
      },
      {
       "output_type": "stream",
       "stream": "stdout",
       "text": [
        "\n",
        "45"
       ]
      },
      {
       "output_type": "stream",
       "stream": "stdout",
       "text": [
        "\n",
        "46"
       ]
      },
      {
       "output_type": "stream",
       "stream": "stdout",
       "text": [
        "\n",
        "47"
       ]
      },
      {
       "output_type": "stream",
       "stream": "stdout",
       "text": [
        "\n",
        "48"
       ]
      },
      {
       "output_type": "stream",
       "stream": "stdout",
       "text": [
        "\n",
        "49"
       ]
      },
      {
       "output_type": "stream",
       "stream": "stdout",
       "text": [
        "\n",
        "50"
       ]
      },
      {
       "output_type": "stream",
       "stream": "stdout",
       "text": [
        "\n",
        "51"
       ]
      },
      {
       "output_type": "stream",
       "stream": "stdout",
       "text": [
        "\n",
        "52"
       ]
      },
      {
       "output_type": "stream",
       "stream": "stdout",
       "text": [
        "\n",
        "53"
       ]
      },
      {
       "output_type": "stream",
       "stream": "stdout",
       "text": [
        "\n",
        "54"
       ]
      },
      {
       "output_type": "stream",
       "stream": "stdout",
       "text": [
        "\n",
        "55"
       ]
      },
      {
       "output_type": "stream",
       "stream": "stdout",
       "text": [
        "\n",
        "56"
       ]
      },
      {
       "output_type": "stream",
       "stream": "stdout",
       "text": [
        "\n",
        "57"
       ]
      },
      {
       "output_type": "stream",
       "stream": "stdout",
       "text": [
        "\n",
        "58"
       ]
      },
      {
       "output_type": "stream",
       "stream": "stdout",
       "text": [
        "\n",
        "59"
       ]
      },
      {
       "output_type": "stream",
       "stream": "stdout",
       "text": [
        "\n",
        "60"
       ]
      },
      {
       "output_type": "stream",
       "stream": "stdout",
       "text": [
        "\n",
        "61"
       ]
      },
      {
       "output_type": "stream",
       "stream": "stdout",
       "text": [
        "\n",
        "62"
       ]
      },
      {
       "output_type": "stream",
       "stream": "stdout",
       "text": [
        "\n",
        "63"
       ]
      },
      {
       "output_type": "stream",
       "stream": "stdout",
       "text": [
        "\n",
        "64"
       ]
      },
      {
       "output_type": "stream",
       "stream": "stdout",
       "text": [
        "\n",
        "65"
       ]
      },
      {
       "output_type": "stream",
       "stream": "stdout",
       "text": [
        "\n",
        "66"
       ]
      },
      {
       "output_type": "stream",
       "stream": "stdout",
       "text": [
        "\n",
        "67"
       ]
      },
      {
       "output_type": "stream",
       "stream": "stdout",
       "text": [
        "\n",
        "68"
       ]
      },
      {
       "output_type": "stream",
       "stream": "stdout",
       "text": [
        "\n",
        "69"
       ]
      },
      {
       "output_type": "stream",
       "stream": "stdout",
       "text": [
        "\n",
        "70"
       ]
      },
      {
       "output_type": "stream",
       "stream": "stdout",
       "text": [
        "\n",
        "71"
       ]
      },
      {
       "output_type": "stream",
       "stream": "stdout",
       "text": [
        "\n",
        "72"
       ]
      },
      {
       "output_type": "stream",
       "stream": "stdout",
       "text": [
        "\n",
        "73"
       ]
      },
      {
       "output_type": "stream",
       "stream": "stdout",
       "text": [
        "\n",
        "74"
       ]
      },
      {
       "output_type": "stream",
       "stream": "stdout",
       "text": [
        "\n",
        "75"
       ]
      },
      {
       "output_type": "stream",
       "stream": "stdout",
       "text": [
        "\n",
        "76"
       ]
      },
      {
       "output_type": "stream",
       "stream": "stdout",
       "text": [
        "\n",
        "77"
       ]
      },
      {
       "output_type": "stream",
       "stream": "stdout",
       "text": [
        "\n",
        "78"
       ]
      },
      {
       "output_type": "stream",
       "stream": "stdout",
       "text": [
        "\n",
        "79"
       ]
      },
      {
       "output_type": "stream",
       "stream": "stdout",
       "text": [
        "\n",
        "80"
       ]
      },
      {
       "output_type": "stream",
       "stream": "stdout",
       "text": [
        "\n",
        "81"
       ]
      },
      {
       "output_type": "stream",
       "stream": "stdout",
       "text": [
        "\n",
        "82"
       ]
      },
      {
       "output_type": "stream",
       "stream": "stdout",
       "text": [
        "\n",
        "83"
       ]
      },
      {
       "output_type": "stream",
       "stream": "stdout",
       "text": [
        "\n",
        "84"
       ]
      },
      {
       "output_type": "stream",
       "stream": "stdout",
       "text": [
        "\n",
        "85"
       ]
      },
      {
       "output_type": "stream",
       "stream": "stdout",
       "text": [
        "\n",
        "86"
       ]
      },
      {
       "output_type": "stream",
       "stream": "stdout",
       "text": [
        "\n",
        "87"
       ]
      },
      {
       "output_type": "stream",
       "stream": "stdout",
       "text": [
        "\n",
        "88"
       ]
      },
      {
       "output_type": "stream",
       "stream": "stdout",
       "text": [
        "\n",
        "89"
       ]
      },
      {
       "output_type": "stream",
       "stream": "stdout",
       "text": [
        "\n",
        "90"
       ]
      },
      {
       "output_type": "stream",
       "stream": "stdout",
       "text": [
        "\n",
        "91"
       ]
      },
      {
       "output_type": "stream",
       "stream": "stdout",
       "text": [
        "\n",
        "92"
       ]
      },
      {
       "output_type": "stream",
       "stream": "stdout",
       "text": [
        "\n",
        "93"
       ]
      },
      {
       "output_type": "stream",
       "stream": "stdout",
       "text": [
        "\n",
        "94"
       ]
      },
      {
       "output_type": "stream",
       "stream": "stdout",
       "text": [
        "\n",
        "95"
       ]
      },
      {
       "output_type": "stream",
       "stream": "stdout",
       "text": [
        "\n",
        "96"
       ]
      },
      {
       "output_type": "stream",
       "stream": "stdout",
       "text": [
        "\n",
        "97"
       ]
      },
      {
       "output_type": "stream",
       "stream": "stdout",
       "text": [
        "\n",
        "98"
       ]
      },
      {
       "output_type": "stream",
       "stream": "stdout",
       "text": [
        "\n",
        "99"
       ]
      },
      {
       "output_type": "stream",
       "stream": "stdout",
       "text": [
        "\n",
        "100"
       ]
      },
      {
       "output_type": "stream",
       "stream": "stdout",
       "text": [
        "\n",
        "101"
       ]
      },
      {
       "output_type": "stream",
       "stream": "stdout",
       "text": [
        "\n",
        "102"
       ]
      },
      {
       "output_type": "stream",
       "stream": "stdout",
       "text": [
        "\n",
        "103"
       ]
      },
      {
       "output_type": "stream",
       "stream": "stdout",
       "text": [
        "\n",
        "104"
       ]
      },
      {
       "output_type": "stream",
       "stream": "stdout",
       "text": [
        "\n",
        "105"
       ]
      },
      {
       "output_type": "stream",
       "stream": "stdout",
       "text": [
        "\n",
        "106"
       ]
      },
      {
       "output_type": "stream",
       "stream": "stdout",
       "text": [
        "\n",
        "107"
       ]
      },
      {
       "output_type": "stream",
       "stream": "stdout",
       "text": [
        "\n",
        "108"
       ]
      },
      {
       "output_type": "stream",
       "stream": "stdout",
       "text": [
        "\n",
        "109"
       ]
      },
      {
       "output_type": "stream",
       "stream": "stdout",
       "text": [
        "\n",
        "110"
       ]
      },
      {
       "output_type": "stream",
       "stream": "stdout",
       "text": [
        "\n",
        "111"
       ]
      },
      {
       "output_type": "stream",
       "stream": "stdout",
       "text": [
        "\n",
        "112"
       ]
      },
      {
       "output_type": "stream",
       "stream": "stdout",
       "text": [
        "\n",
        "113"
       ]
      },
      {
       "output_type": "stream",
       "stream": "stdout",
       "text": [
        "\n",
        "114"
       ]
      },
      {
       "output_type": "stream",
       "stream": "stdout",
       "text": [
        "\n",
        "115"
       ]
      },
      {
       "output_type": "stream",
       "stream": "stdout",
       "text": [
        "\n"
       ]
      }
     ],
     "prompt_number": 52
    },
    {
     "cell_type": "code",
     "collapsed": false,
     "input": [
      "fis = pd.DataFrame(clf.feature_importances)\n",
      "fis['region'] = range(0, n_regions)\n",
      "fis_melt = pd.melt(fis, var_name='topic_order', value_name='importance', id_vars=['region'])"
     ],
     "language": "python",
     "metadata": {},
     "outputs": [],
     "prompt_number": 53
    },
    {
     "cell_type": "code",
     "collapsed": false,
     "input": [
      "top_words = pd.read_csv(\"../data/unprocessed/abstract_topics_filtered/topic_sets/top_words_\" + str(n_topics) + \".csv\")\n",
      "keys = pd.merge(pd.DataFrame(np.array([range(0, n_topics), clf.feature_names]).T, columns=['topic_order', 'topic_name']), top_words)\n",
      "keys.topic_order = keys.topic_order.astype('int')"
     ],
     "language": "python",
     "metadata": {},
     "outputs": [],
     "prompt_number": 54
    },
    {
     "cell_type": "code",
     "collapsed": false,
     "input": [
      "fis_melt = pd.merge(fis_melt, keys)\n",
      "fis_melt['abs_imp'] = np.abs(fis_melt['importance'])"
     ],
     "language": "python",
     "metadata": {},
     "outputs": [],
     "prompt_number": 55
    },
    {
     "cell_type": "code",
     "collapsed": false,
     "input": [
      "def minimum_percent(region, percent=.1):\n",
      "    max = region['score'].max() \n",
      "    labeled_rows = (region['score'] > (max - ((max) * percent)))\n",
      "    return region[labeled_rows]['num_features'].min()\n",
      "\n",
      "def minimum_fixed(region, fixed=.01):\n",
      "    labeled_rows = (region['score'] > (region['score'].max() - fixed))\n",
      "    return region[labeled_rows]['num_features'].min()\n"
     ],
     "language": "python",
     "metadata": {},
     "outputs": [],
     "prompt_number": 56
    },
    {
     "cell_type": "code",
     "collapsed": false,
     "input": [
      "ten_percent = results.groupby('region').apply(minimum_percent, percent=0.1)\n",
      "ten_percent_r = results.groupby('region').agg(np.mean)"
     ],
     "language": "python",
     "metadata": {},
     "outputs": [],
     "prompt_number": 57
    },
    {
     "cell_type": "code",
     "collapsed": false,
     "input": [
      "stats.pearsonr(results.groupby('region').head(1).score,ten_percent_r.score)"
     ],
     "language": "python",
     "metadata": {},
     "outputs": [
      {
       "metadata": {},
       "output_type": "pyout",
       "prompt_number": 58,
       "text": [
        "(0.84330432867270355, 1.5933954393122687e-32)"
       ]
      }
     ],
     "prompt_number": 58
    },
    {
     "cell_type": "code",
     "collapsed": false,
     "input": [
      "ten_percent"
     ],
     "language": "python",
     "metadata": {},
     "outputs": [
      {
       "metadata": {},
       "output_type": "pyout",
       "prompt_number": 59,
       "text": [
        "region\n",
        "0         15\n",
        "1         10\n",
        "2         19\n",
        "3         22\n",
        "4         20\n",
        "5         23\n",
        "6         20\n",
        "7         18\n",
        "8         12\n",
        "9         16\n",
        "10        22\n",
        "11        14\n",
        "12        19\n",
        "13        11\n",
        "14        20\n",
        "...\n",
        "101        8\n",
        "102        7\n",
        "103       23\n",
        "104        3\n",
        "105        8\n",
        "106      NaN\n",
        "107      NaN\n",
        "108        3\n",
        "109        9\n",
        "110       13\n",
        "111       11\n",
        "112       10\n",
        "113       11\n",
        "114        7\n",
        "115       10\n",
        "Length: 116, dtype: float64"
       ]
      }
     ],
     "prompt_number": 59
    },
    {
     "cell_type": "code",
     "collapsed": false,
     "input": [
      "stats.spearmanr(deg_part.p_15, ten_percent)"
     ],
     "language": "python",
     "metadata": {},
     "outputs": [
      {
       "metadata": {},
       "output_type": "pyout",
       "prompt_number": 65,
       "text": [
        "(0.35962230693164293, 7.3459511284916859e-05)"
       ]
      }
     ],
     "prompt_number": 65
    },
    {
     "cell_type": "code",
     "collapsed": false,
     "input": [
      "stats.spearmanr(deg_part.p_25, ten_percent)"
     ],
     "language": "python",
     "metadata": {},
     "outputs": [
      {
       "metadata": {},
       "output_type": "pyout",
       "prompt_number": 69,
       "text": [
        "(0.38333772878822797, 2.1627787030777079e-05)"
       ]
      }
     ],
     "prompt_number": 69
    },
    {
     "cell_type": "code",
     "collapsed": false,
     "input": [
      "sns.regplot(deg_part.p_25, ten_percent)"
     ],
     "language": "python",
     "metadata": {},
     "outputs": [
      {
       "metadata": {},
       "output_type": "pyout",
       "prompt_number": 108,
       "text": [
        "<matplotlib.axes.AxesSubplot at 0x115450610>"
       ]
      },
      {
       "metadata": {},
       "output_type": "display_data",
       "png": "[encoded data removed]",
       "text": [
        "<matplotlib.figure.Figure at 0x1156ecd10>"
       ]
      }
     ],
     "prompt_number": 108
    },
    {
     "cell_type": "code",
     "collapsed": false,
     "input": [
      "stats.spearmanr(deg_part.d_15, ten_percent)"
     ],
     "language": "python",
     "metadata": {},
     "outputs": [
      {
       "metadata": {},
       "output_type": "pyout",
       "prompt_number": 70,
       "text": [
        "(0.04961317995893038, 0.59688220928307256)"
       ]
      }
     ],
     "prompt_number": 70
    },
    {
     "cell_type": "code",
     "collapsed": false,
     "input": [
      "stats.spearmanr(deg_part.d_25, ten_percent)"
     ],
     "language": "python",
     "metadata": {},
     "outputs": [
      {
       "metadata": {},
       "output_type": "pyout",
       "prompt_number": 71,
       "text": [
        "(0.090038045353477619, 0.33645588839378016)"
       ]
      }
     ],
     "prompt_number": 71
    },
    {
     "cell_type": "code",
     "collapsed": false,
     "input": [
      "stats.spearmanr(deg_part.d_40, ten_percent)"
     ],
     "language": "python",
     "metadata": {},
     "outputs": [
      {
       "metadata": {},
       "output_type": "pyout",
       "prompt_number": 72,
       "text": [
        "(0.11344862440119892, 0.22529592605471685)"
       ]
      }
     ],
     "prompt_number": 72
    },
    {
     "cell_type": "code",
     "collapsed": false,
     "input": [],
     "language": "python",
     "metadata": {},
     "outputs": []
    }
   ],
   "metadata": {}
  }
 ]
}