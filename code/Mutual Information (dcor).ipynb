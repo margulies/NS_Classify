{
 "metadata": {
  "name": "",
  "signature": "sha256:9c8bea4f0e92d7388ae488fb3ccd61883eab5e34c517d8c77579357f6161ea5f"
 },
 "nbformat": 3,
 "nbformat_minor": 0,
 "worksheets": [
  {
   "cells": [
    {
     "cell_type": "code",
     "collapsed": false,
     "input": [
      "from IPython.html import widgets\n",
      "%matplotlib inline\n",
      "\n",
      "import numpy as np\n",
      "from base.classifiers import OnevsallContinuous\n",
      "from base.classifiers import PairwiseContinuous\n",
      "\n",
      "import pandas as pd\n",
      "from scipy import stats\n",
      "import seaborn as sns\n",
      "import mpld3\n",
      "import matplotlib.pyplot as plt\n",
      "import matplotlib.cm as cm\n",
      "mpld3.enable_notebook()\n",
      "import scipy\n",
      "import glob\n",
      "import itertools\n",
      "\n",
      "from base.statistics import dcor\n",
      "\n",
      "from neurosynth.base.dataset import Dataset\n",
      "dataset = Dataset.load(\"../data/datasets/abs_80topics_filt_jul.pkl\")"
     ],
     "language": "python",
     "metadata": {},
     "outputs": [],
     "prompt_number": 26
    },
    {
     "cell_type": "code",
     "collapsed": false,
     "input": [
      "pairwise_rz = PairwiseContinuous.load('../results/aal_Pairwise_Ridge_rz_abs_topics_filt/classifier.pkl')"
     ],
     "language": "python",
     "metadata": {},
     "outputs": [],
     "prompt_number": 34
    },
    {
     "cell_type": "code",
     "collapsed": false,
     "input": [
      "pairwise_rz.feature_importances[0]"
     ],
     "language": "python",
     "metadata": {},
     "outputs": [
      {
       "metadata": {},
       "output_type": "pyout",
       "prompt_number": 38,
       "text": [
        "masked_array(data =\n",
        " [[-- -- -- ..., -- -- --]\n",
        " [3.572705032742317e-05 -0.0004536593490350641 0.0010530140648685785 ...,\n",
        "  0.0007060256436578716 0.0019303260265416025 -0.00031790990947898904]\n",
        " [-0.0002657959661840502 -0.0002738640437707475 0.0008012219464542808 ...,\n",
        "  -0.00043311684901746434 -0.00011241689319620728 -0.0001282483745728646]\n",
        " ..., \n",
        " [0.00019157546976421812 -0.0007229982029122917 0.0006871752480018238 ...,\n",
        "  0.0005545089039635784 0.0018075026732067615 -0.0005439283483015184]\n",
        " [0.0005363903032679597 0.0015877421341014243 0.00022250510220234732 ...,\n",
        "  -0.0009699404738320662 0.0005410488794425125 -0.00033586962631802607]\n",
        " [-0.0007584471575980473 -8.15510002406129e-06 0.000887092954856809 ...,\n",
        "  -0.00023214391941266062 -0.00013162983702109867 0.0004746993897593317]],\n",
        "             mask =\n",
        " [[ True  True  True ...,  True  True  True]\n",
        " [False False False ..., False False False]\n",
        " [False False False ..., False False False]\n",
        " ..., \n",
        " [False False False ..., False False False]\n",
        " [False False False ..., False False False]\n",
        " [False False False ..., False False False]],\n",
        "       fill_value = 1e+20)"
       ]
      }
     ],
     "prompt_number": 38
    },
    {
     "cell_type": "code",
     "collapsed": false,
     "input": [
      "dcor(pairwise_rz.feature_importances[0][1], pairwise_rz.feature_importances[0][2])"
     ],
     "language": "python",
     "metadata": {},
     "outputs": [
      {
       "metadata": {},
       "output_type": "pyout",
       "prompt_number": 36,
       "text": [
        "0.36128497964665696"
       ]
      }
     ],
     "prompt_number": 36
    },
    {
     "cell_type": "code",
     "collapsed": false,
     "input": [
      "total_results = []\n",
      "for region in range(0, pairwise_rz.mask_num):\n",
      "    other_regs = range(0, pairwise_rz.mask_num)\n",
      "    other_regs.remove(region)\n",
      "    print region2\n",
      "    results = []\n",
      "    for combs in itertools.combinations(other_regs, 2):\n",
      "        results.append(dcor(pairwise_rz.feature_importances[region, combs[0]], pairwise_rz.feature_importances[region, combs[1]]))\n",
      "    \n",
      "    total_results.append(np.array(results).mean())"
     ],
     "language": "python",
     "metadata": {},
     "outputs": [
      {
       "output_type": "stream",
       "stream": "stdout",
       "text": [
        "0\n",
        "1"
       ]
      },
      {
       "output_type": "stream",
       "stream": "stdout",
       "text": [
        "\n",
        "2"
       ]
      },
      {
       "output_type": "stream",
       "stream": "stdout",
       "text": [
        "\n",
        "3"
       ]
      },
      {
       "output_type": "stream",
       "stream": "stdout",
       "text": [
        "\n",
        "4"
       ]
      },
      {
       "output_type": "stream",
       "stream": "stdout",
       "text": [
        "\n",
        "5"
       ]
      },
      {
       "output_type": "stream",
       "stream": "stdout",
       "text": [
        "\n",
        "6"
       ]
      },
      {
       "output_type": "stream",
       "stream": "stdout",
       "text": [
        "\n",
        "7"
       ]
      },
      {
       "output_type": "stream",
       "stream": "stdout",
       "text": [
        "\n",
        "8"
       ]
      },
      {
       "output_type": "stream",
       "stream": "stdout",
       "text": [
        "\n",
        "9"
       ]
      },
      {
       "output_type": "stream",
       "stream": "stdout",
       "text": [
        "\n",
        "10"
       ]
      },
      {
       "output_type": "stream",
       "stream": "stdout",
       "text": [
        "\n",
        "11"
       ]
      },
      {
       "output_type": "stream",
       "stream": "stdout",
       "text": [
        "\n",
        "12"
       ]
      },
      {
       "output_type": "stream",
       "stream": "stdout",
       "text": [
        "\n",
        "13"
       ]
      },
      {
       "output_type": "stream",
       "stream": "stdout",
       "text": [
        "\n",
        "14"
       ]
      },
      {
       "output_type": "stream",
       "stream": "stdout",
       "text": [
        "\n",
        "15"
       ]
      },
      {
       "output_type": "stream",
       "stream": "stdout",
       "text": [
        "\n",
        "16"
       ]
      },
      {
       "output_type": "stream",
       "stream": "stdout",
       "text": [
        "\n",
        "17"
       ]
      },
      {
       "output_type": "stream",
       "stream": "stdout",
       "text": [
        "\n",
        "18"
       ]
      },
      {
       "output_type": "stream",
       "stream": "stdout",
       "text": [
        "\n",
        "19"
       ]
      },
      {
       "output_type": "stream",
       "stream": "stdout",
       "text": [
        "\n",
        "20"
       ]
      },
      {
       "output_type": "stream",
       "stream": "stdout",
       "text": [
        "\n",
        "21"
       ]
      },
      {
       "output_type": "stream",
       "stream": "stdout",
       "text": [
        "\n",
        "22"
       ]
      },
      {
       "output_type": "stream",
       "stream": "stdout",
       "text": [
        "\n",
        "23"
       ]
      },
      {
       "output_type": "stream",
       "stream": "stdout",
       "text": [
        "\n",
        "24"
       ]
      },
      {
       "output_type": "stream",
       "stream": "stdout",
       "text": [
        "\n",
        "25"
       ]
      },
      {
       "output_type": "stream",
       "stream": "stdout",
       "text": [
        "\n",
        "26"
       ]
      },
      {
       "output_type": "stream",
       "stream": "stdout",
       "text": [
        "\n",
        "27"
       ]
      },
      {
       "output_type": "stream",
       "stream": "stdout",
       "text": [
        "\n",
        "28"
       ]
      },
      {
       "output_type": "stream",
       "stream": "stdout",
       "text": [
        "\n",
        "29"
       ]
      },
      {
       "output_type": "stream",
       "stream": "stdout",
       "text": [
        "\n",
        "30"
       ]
      },
      {
       "output_type": "stream",
       "stream": "stdout",
       "text": [
        "\n",
        "31"
       ]
      },
      {
       "output_type": "stream",
       "stream": "stdout",
       "text": [
        "\n",
        "32"
       ]
      },
      {
       "output_type": "stream",
       "stream": "stdout",
       "text": [
        "\n",
        "33"
       ]
      },
      {
       "output_type": "stream",
       "stream": "stdout",
       "text": [
        "\n",
        "34"
       ]
      },
      {
       "output_type": "stream",
       "stream": "stdout",
       "text": [
        "\n",
        "35"
       ]
      },
      {
       "output_type": "stream",
       "stream": "stdout",
       "text": [
        "\n",
        "36"
       ]
      },
      {
       "output_type": "stream",
       "stream": "stdout",
       "text": [
        "\n",
        "37"
       ]
      },
      {
       "output_type": "stream",
       "stream": "stdout",
       "text": [
        "\n",
        "38"
       ]
      },
      {
       "output_type": "stream",
       "stream": "stdout",
       "text": [
        "\n",
        "39"
       ]
      },
      {
       "output_type": "stream",
       "stream": "stdout",
       "text": [
        "\n",
        "40"
       ]
      },
      {
       "output_type": "stream",
       "stream": "stdout",
       "text": [
        "\n",
        "41"
       ]
      },
      {
       "output_type": "stream",
       "stream": "stdout",
       "text": [
        "\n",
        "42"
       ]
      },
      {
       "output_type": "stream",
       "stream": "stdout",
       "text": [
        "\n",
        "43"
       ]
      },
      {
       "output_type": "stream",
       "stream": "stdout",
       "text": [
        "\n",
        "44"
       ]
      },
      {
       "output_type": "stream",
       "stream": "stdout",
       "text": [
        "\n",
        "45"
       ]
      },
      {
       "output_type": "stream",
       "stream": "stdout",
       "text": [
        "\n",
        "46"
       ]
      },
      {
       "output_type": "stream",
       "stream": "stdout",
       "text": [
        "\n",
        "47"
       ]
      },
      {
       "output_type": "stream",
       "stream": "stdout",
       "text": [
        "\n",
        "48"
       ]
      },
      {
       "output_type": "stream",
       "stream": "stdout",
       "text": [
        "\n",
        "49"
       ]
      },
      {
       "output_type": "stream",
       "stream": "stdout",
       "text": [
        "\n",
        "50"
       ]
      },
      {
       "output_type": "stream",
       "stream": "stdout",
       "text": [
        "\n",
        "51"
       ]
      },
      {
       "output_type": "stream",
       "stream": "stdout",
       "text": [
        "\n",
        "52"
       ]
      },
      {
       "output_type": "stream",
       "stream": "stdout",
       "text": [
        "\n",
        "53"
       ]
      },
      {
       "output_type": "stream",
       "stream": "stdout",
       "text": [
        "\n",
        "54"
       ]
      },
      {
       "output_type": "stream",
       "stream": "stdout",
       "text": [
        "\n",
        "55"
       ]
      },
      {
       "output_type": "stream",
       "stream": "stdout",
       "text": [
        "\n",
        "56"
       ]
      },
      {
       "output_type": "stream",
       "stream": "stdout",
       "text": [
        "\n",
        "57"
       ]
      },
      {
       "output_type": "stream",
       "stream": "stdout",
       "text": [
        "\n",
        "58"
       ]
      },
      {
       "output_type": "stream",
       "stream": "stdout",
       "text": [
        "\n",
        "59"
       ]
      },
      {
       "output_type": "stream",
       "stream": "stdout",
       "text": [
        "\n",
        "60"
       ]
      },
      {
       "output_type": "stream",
       "stream": "stdout",
       "text": [
        "\n",
        "61"
       ]
      },
      {
       "output_type": "stream",
       "stream": "stdout",
       "text": [
        "\n",
        "62"
       ]
      },
      {
       "output_type": "stream",
       "stream": "stdout",
       "text": [
        "\n",
        "63"
       ]
      },
      {
       "output_type": "stream",
       "stream": "stdout",
       "text": [
        "\n",
        "64"
       ]
      },
      {
       "output_type": "stream",
       "stream": "stdout",
       "text": [
        "\n",
        "65"
       ]
      },
      {
       "output_type": "stream",
       "stream": "stdout",
       "text": [
        "\n",
        "66"
       ]
      },
      {
       "output_type": "stream",
       "stream": "stdout",
       "text": [
        "\n",
        "67"
       ]
      },
      {
       "output_type": "stream",
       "stream": "stdout",
       "text": [
        "\n",
        "68"
       ]
      },
      {
       "output_type": "stream",
       "stream": "stdout",
       "text": [
        "\n",
        "69"
       ]
      },
      {
       "output_type": "stream",
       "stream": "stdout",
       "text": [
        "\n",
        "70"
       ]
      },
      {
       "output_type": "stream",
       "stream": "stdout",
       "text": [
        "\n",
        "71"
       ]
      },
      {
       "output_type": "stream",
       "stream": "stdout",
       "text": [
        "\n",
        "72"
       ]
      },
      {
       "output_type": "stream",
       "stream": "stdout",
       "text": [
        "\n",
        "73"
       ]
      },
      {
       "output_type": "stream",
       "stream": "stdout",
       "text": [
        "\n",
        "74"
       ]
      },
      {
       "output_type": "stream",
       "stream": "stdout",
       "text": [
        "\n",
        "75"
       ]
      },
      {
       "output_type": "stream",
       "stream": "stdout",
       "text": [
        "\n",
        "76"
       ]
      },
      {
       "output_type": "stream",
       "stream": "stdout",
       "text": [
        "\n",
        "77"
       ]
      },
      {
       "output_type": "stream",
       "stream": "stdout",
       "text": [
        "\n",
        "78"
       ]
      },
      {
       "output_type": "stream",
       "stream": "stdout",
       "text": [
        "\n",
        "79"
       ]
      },
      {
       "output_type": "stream",
       "stream": "stdout",
       "text": [
        "\n",
        "80"
       ]
      },
      {
       "output_type": "stream",
       "stream": "stdout",
       "text": [
        "\n",
        "81"
       ]
      },
      {
       "output_type": "stream",
       "stream": "stdout",
       "text": [
        "\n",
        "82"
       ]
      },
      {
       "output_type": "stream",
       "stream": "stdout",
       "text": [
        "\n",
        "83"
       ]
      },
      {
       "output_type": "stream",
       "stream": "stdout",
       "text": [
        "\n",
        "84"
       ]
      },
      {
       "output_type": "stream",
       "stream": "stdout",
       "text": [
        "\n",
        "85"
       ]
      },
      {
       "output_type": "stream",
       "stream": "stdout",
       "text": [
        "\n",
        "86"
       ]
      },
      {
       "output_type": "stream",
       "stream": "stdout",
       "text": [
        "\n",
        "87"
       ]
      },
      {
       "output_type": "stream",
       "stream": "stdout",
       "text": [
        "\n",
        "88"
       ]
      },
      {
       "output_type": "stream",
       "stream": "stdout",
       "text": [
        "\n",
        "89"
       ]
      },
      {
       "output_type": "stream",
       "stream": "stdout",
       "text": [
        "\n",
        "90"
       ]
      },
      {
       "output_type": "stream",
       "stream": "stdout",
       "text": [
        "\n",
        "91"
       ]
      },
      {
       "output_type": "stream",
       "stream": "stdout",
       "text": [
        "\n",
        "92"
       ]
      },
      {
       "output_type": "stream",
       "stream": "stdout",
       "text": [
        "\n",
        "93"
       ]
      },
      {
       "output_type": "stream",
       "stream": "stdout",
       "text": [
        "\n",
        "94"
       ]
      },
      {
       "output_type": "stream",
       "stream": "stdout",
       "text": [
        "\n",
        "95"
       ]
      },
      {
       "output_type": "stream",
       "stream": "stdout",
       "text": [
        "\n",
        "96"
       ]
      },
      {
       "output_type": "stream",
       "stream": "stdout",
       "text": [
        "\n",
        "97"
       ]
      },
      {
       "output_type": "stream",
       "stream": "stdout",
       "text": [
        "\n",
        "98"
       ]
      },
      {
       "output_type": "stream",
       "stream": "stdout",
       "text": [
        "\n",
        "99"
       ]
      },
      {
       "output_type": "stream",
       "stream": "stdout",
       "text": [
        "\n",
        "100"
       ]
      },
      {
       "output_type": "stream",
       "stream": "stdout",
       "text": [
        "\n",
        "101"
       ]
      },
      {
       "output_type": "stream",
       "stream": "stdout",
       "text": [
        "\n",
        "102"
       ]
      },
      {
       "output_type": "stream",
       "stream": "stdout",
       "text": [
        "\n",
        "103"
       ]
      },
      {
       "output_type": "stream",
       "stream": "stdout",
       "text": [
        "\n",
        "104"
       ]
      },
      {
       "output_type": "stream",
       "stream": "stdout",
       "text": [
        "\n",
        "105"
       ]
      },
      {
       "output_type": "stream",
       "stream": "stdout",
       "text": [
        "\n",
        "106"
       ]
      },
      {
       "output_type": "stream",
       "stream": "stdout",
       "text": [
        "\n",
        "107"
       ]
      },
      {
       "output_type": "stream",
       "stream": "stdout",
       "text": [
        "\n",
        "108"
       ]
      },
      {
       "output_type": "stream",
       "stream": "stdout",
       "text": [
        "\n",
        "109"
       ]
      },
      {
       "output_type": "stream",
       "stream": "stdout",
       "text": [
        "\n",
        "110"
       ]
      },
      {
       "output_type": "stream",
       "stream": "stdout",
       "text": [
        "\n",
        "111"
       ]
      },
      {
       "output_type": "stream",
       "stream": "stdout",
       "text": [
        "\n",
        "112"
       ]
      },
      {
       "output_type": "stream",
       "stream": "stdout",
       "text": [
        "\n",
        "113"
       ]
      },
      {
       "output_type": "stream",
       "stream": "stdout",
       "text": [
        "\n",
        "114"
       ]
      },
      {
       "output_type": "stream",
       "stream": "stdout",
       "text": [
        "\n",
        "115"
       ]
      },
      {
       "output_type": "stream",
       "stream": "stdout",
       "text": [
        "\n"
       ]
      }
     ],
     "prompt_number": 39
    },
    {
     "cell_type": "code",
     "collapsed": false,
     "input": [
      "total_results"
     ],
     "language": "python",
     "metadata": {},
     "outputs": [
      {
       "metadata": {},
       "output_type": "pyout",
       "prompt_number": 40,
       "text": [
        "[0.51681028809848362,\n",
        " 0.63531158064094928,\n",
        " 0.35271068528615374,\n",
        " 0.376069756556694,\n",
        " 0.41762944830309523,\n",
        " 0.4145152548527597,\n",
        " 0.43134007633296828,\n",
        " 0.41885201266899275,\n",
        " 0.40308771420653028,\n",
        " 0.42430805673154431,\n",
        " 0.57206954733376569,\n",
        " 0.73482327983792428,\n",
        " 0.49802872494209027,\n",
        " 0.73524465114056958,\n",
        " 0.45772007120005059,\n",
        " 0.57203198975000491,\n",
        " 0.5534464373896566,\n",
        " 0.64266466044136838,\n",
        " 0.61423495939402839,\n",
        " 0.57470929160305284,\n",
        " 0.61609431040337315,\n",
        " 0.60091961053061071,\n",
        " 0.46595819810417954,\n",
        " 0.50234174320383662,\n",
        " 0.59509220437403287,\n",
        " 0.54975025116945431,\n",
        " 0.52435335056873433,\n",
        " 0.51855170166317532,\n",
        " 0.51602130248603884,\n",
        " 0.56756861892545107,\n",
        " 0.55207889154878076,\n",
        " 0.50242063896546985,\n",
        " 0.4248158229930506,\n",
        " 0.39835560266887671,\n",
        " 0.54868211650597198,\n",
        " 0.54559333087806106,\n",
        " 0.6275457843650859,\n",
        " 0.64622279020889128,\n",
        " 0.54956604427325084,\n",
        " 0.60224534566809351,\n",
        " 0.78651239708804122,\n",
        " 0.73435469506020323,\n",
        " 0.45551498473468327,\n",
        " 0.4312874145387301,\n",
        " 0.40700209169461776,\n",
        " 0.42077566695143054,\n",
        " 0.39952560443451746,\n",
        " 0.41842717154360187,\n",
        " 0.44986545432482539,\n",
        " 0.58154534764925714,\n",
        " 0.55484473607179685,\n",
        " 0.54208104916113586,\n",
        " 0.61395878533141812,\n",
        " 0.65480899726419184,\n",
        " 0.53765996456054332,\n",
        " 0.56201530046398174,\n",
        " 0.47460483283107818,\n",
        " 0.5267911313642174,\n",
        " 0.64550756524627029,\n",
        " 0.68124133755949312,\n",
        " 0.60403240779623601,\n",
        " 0.63559306247273084,\n",
        " 0.5273291792552216,\n",
        " 0.53479662368178904,\n",
        " 0.5351169551228766,\n",
        " 0.58291942751710013,\n",
        " 0.41151755405183432,\n",
        " 0.41829163977792089,\n",
        " 0.45418317298619004,\n",
        " 0.5042138693857624,\n",
        " 0.51718509915627231,\n",
        " 0.5432170869278008,\n",
        " 0.61075729511361188,\n",
        " 0.5728970396206432,\n",
        " 0.60659379707744876,\n",
        " 0.63523122039469659,\n",
        " 0.50822565523227792,\n",
        " 0.53708103708012578,\n",
        " 0.66483203468864971,\n",
        " 0.70169039433919767,\n",
        " 0.59909244474977819,\n",
        " 0.68154983422870696,\n",
        " 0.44213504881727639,\n",
        " 0.49975236861725009,\n",
        " 0.52955890249626159,\n",
        " 0.59396426988479811,\n",
        " 0.48395113113951516,\n",
        " 0.53764932218381301,\n",
        " 0.42575660200723159,\n",
        " 0.48464365481185029,\n",
        " 0.35476480347664241,\n",
        " 0.34190619299936292,\n",
        " 0.35340526931510902,\n",
        " 0.31934202894420843,\n",
        " 0.51502231268037657,\n",
        " 0.48977182935041647,\n",
        " 0.43920885812644783,\n",
        " 0.40430129167099116,\n",
        " 0.49594205639541628,\n",
        " 0.4535320691148168,\n",
        " 0.37862921272384809,\n",
        " 0.36155640256722427,\n",
        " 0.39796750367441142,\n",
        " 0.37372331704359696,\n",
        " 0.42965288238369131,\n",
        " 0.37446302095686668,\n",
        " 0.41514744411426113,\n",
        " 0.48145435674792347,\n",
        " 0.59270560932837213,\n",
        " 0.54607432516692578,\n",
        " 0.457266898976048,\n",
        " 0.49106297155103007,\n",
        " 0.53085477387239544,\n",
        " 0.4674457668140905,\n",
        " 0.45866611349324476,\n",
        " 0.4620114762721414]"
       ]
      }
     ],
     "prompt_number": 40
    }
   ],
   "metadata": {}
  }
 ]
}